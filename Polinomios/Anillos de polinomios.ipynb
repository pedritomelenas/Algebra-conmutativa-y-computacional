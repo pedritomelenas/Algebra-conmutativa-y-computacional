{
 "cells": [
  {
   "cell_type": "markdown",
   "metadata": {},
   "source": [
    "# Anillos de polinomios"
   ]
  },
  {
   "cell_type": "markdown",
   "metadata": {},
   "source": [
    "El manual de referencia para este bloc es [Sage Reference Manual: Polynomials](http://doc.sagemath.org/pdf/en/reference/polynomial_rings/polynomial_rings.pdf)\n",
    "\n",
    "Algunos de los ejercicios y ejemplos están extraídos de las notas de trabajo de [Pascual Jara](http://www.ugr.es/~pjara) para la asignatura [Álgebra Conmutativa y Computacional](http://grados.ugr.es/matematicas/pages/infoacademica/guiasdocentes/actual/optativas/Algebra_Conmutativa_y_Computacional)"
   ]
  },
  {
   "cell_type": "markdown",
   "metadata": {},
   "source": [
    "Existen varias formas de definir un anillo de polinomios en `sage`"
   ]
  },
  {
   "cell_type": "code",
   "execution_count": 1,
   "metadata": {},
   "outputs": [],
   "source": [
    "P=PolynomialRing(QQ,['x', 'y', 'z'])"
   ]
  },
  {
   "cell_type": "code",
   "execution_count": 2,
   "metadata": {},
   "outputs": [
    {
     "data": {
      "text/plain": [
       "Multivariate Polynomial Ring in x, y, z over Rational Field"
      ]
     },
     "execution_count": 2,
     "metadata": {},
     "output_type": "execute_result"
    }
   ],
   "source": [
    "P"
   ]
  },
  {
   "cell_type": "markdown",
   "metadata": {},
   "source": [
    "Para poder utilizar las variables del anillo de polinomios que hemos definido como objetos en `sage` debemos \"inyectarlas\" "
   ]
  },
  {
   "cell_type": "code",
   "execution_count": 3,
   "metadata": {},
   "outputs": [
    {
     "name": "stdout",
     "output_type": "stream",
     "text": [
      "Defining x, y, z\n"
     ]
    }
   ],
   "source": [
    "P.inject_variables()"
   ]
  },
  {
   "cell_type": "code",
   "execution_count": 4,
   "metadata": {},
   "outputs": [
    {
     "data": {
      "text/plain": [
       "z"
      ]
     },
     "execution_count": 4,
     "metadata": {},
     "output_type": "execute_result"
    }
   ],
   "source": [
    "z"
   ]
  },
  {
   "cell_type": "code",
   "execution_count": 5,
   "metadata": {},
   "outputs": [
    {
     "data": {
      "text/plain": [
       "x^2"
      ]
     },
     "execution_count": 5,
     "metadata": {},
     "output_type": "execute_result"
    }
   ],
   "source": [
    "x^2"
   ]
  },
  {
   "cell_type": "code",
   "execution_count": 6,
   "metadata": {},
   "outputs": [
    {
     "data": {
      "text/plain": [
       "True"
      ]
     },
     "execution_count": 6,
     "metadata": {},
     "output_type": "execute_result"
    }
   ],
   "source": [
    "x in P"
   ]
  },
  {
   "cell_type": "code",
   "execution_count": 7,
   "metadata": {},
   "outputs": [
    {
     "data": {
      "text/plain": [
       "False"
      ]
     },
     "execution_count": 7,
     "metadata": {},
     "output_type": "execute_result"
    }
   ],
   "source": [
    "x/y in P"
   ]
  },
  {
   "cell_type": "code",
   "execution_count": 7,
   "metadata": {},
   "outputs": [
    {
     "data": {
      "text/plain": [
       "True"
      ]
     },
     "execution_count": 7,
     "metadata": {},
     "output_type": "execute_result"
    }
   ],
   "source": [
    "P==QQ['x','y','z']"
   ]
  },
  {
   "cell_type": "code",
   "execution_count": 8,
   "metadata": {},
   "outputs": [],
   "source": [
    "P2.<x,y,z>=QQ[]"
   ]
  },
  {
   "cell_type": "code",
   "execution_count": 9,
   "metadata": {},
   "outputs": [
    {
     "data": {
      "text/plain": [
       "True"
      ]
     },
     "execution_count": 9,
     "metadata": {},
     "output_type": "execute_result"
    }
   ],
   "source": [
    "P2==P"
   ]
  },
  {
   "cell_type": "markdown",
   "metadata": {},
   "source": [
    "## Test de primalidad, factorización"
   ]
  },
  {
   "cell_type": "markdown",
   "metadata": {},
   "source": [
    "Para ver si un polinomio es primo, utilizamos `is_prime()`"
   ]
  },
  {
   "cell_type": "code",
   "execution_count": 10,
   "metadata": {},
   "outputs": [],
   "source": [
    "P.<x,y>=QQ[]"
   ]
  },
  {
   "cell_type": "code",
   "execution_count": 11,
   "metadata": {},
   "outputs": [],
   "source": [
    "c=x^3-y^2"
   ]
  },
  {
   "cell_type": "code",
   "execution_count": 12,
   "metadata": {
    "scrolled": false
   },
   "outputs": [
    {
     "data": {
      "text/plain": [
       "True"
      ]
     },
     "execution_count": 12,
     "metadata": {},
     "output_type": "execute_result"
    }
   ],
   "source": [
    "c.is_prime()"
   ]
  },
  {
   "cell_type": "code",
   "execution_count": 13,
   "metadata": {},
   "outputs": [
    {
     "data": {
      "text/plain": [
       "True"
      ]
     },
     "execution_count": 13,
     "metadata": {},
     "output_type": "execute_result"
    }
   ],
   "source": [
    "(x^2+x^2-1).is_prime()"
   ]
  },
  {
   "cell_type": "markdown",
   "metadata": {},
   "source": [
    "Podemos factorizar usando `factor()`"
   ]
  },
  {
   "cell_type": "code",
   "execution_count": 14,
   "metadata": {},
   "outputs": [],
   "source": [
    "r =x^2-y^2"
   ]
  },
  {
   "cell_type": "code",
   "execution_count": 15,
   "metadata": {},
   "outputs": [
    {
     "data": {
      "text/plain": [
       "(x - y) * (x + y)"
      ]
     },
     "execution_count": 15,
     "metadata": {},
     "output_type": "execute_result"
    }
   ],
   "source": [
    "r.factor()"
   ]
  },
  {
   "cell_type": "markdown",
   "metadata": {},
   "source": [
    "Y al igual que con enteros, podemos calcular el máximo común divisor"
   ]
  },
  {
   "cell_type": "code",
   "execution_count": 16,
   "metadata": {},
   "outputs": [],
   "source": [
    "f =x*y-1\n",
    "g= x^2+y^2-4"
   ]
  },
  {
   "cell_type": "code",
   "execution_count": 17,
   "metadata": {
    "scrolled": true
   },
   "outputs": [
    {
     "data": {
      "text/plain": [
       "1"
      ]
     },
     "execution_count": 17,
     "metadata": {},
     "output_type": "execute_result"
    }
   ],
   "source": [
    "gcd(f,g)"
   ]
  },
  {
   "cell_type": "markdown",
   "metadata": {},
   "source": [
    "## Polinomios en una variable"
   ]
  },
  {
   "cell_type": "code",
   "execution_count": 18,
   "metadata": {
    "scrolled": true
   },
   "outputs": [
    {
     "name": "stdout",
     "output_type": "stream",
     "text": [
      "Defining x\n"
     ]
    }
   ],
   "source": [
    "R=Zmod(2)['x']\n",
    "R.inject_variables()"
   ]
  },
  {
   "cell_type": "markdown",
   "metadata": {},
   "source": [
    "Podemos calcular todos los polinomios mónicos con un grado determinado."
   ]
  },
  {
   "cell_type": "code",
   "execution_count": 19,
   "metadata": {
    "scrolled": true
   },
   "outputs": [
    {
     "data": {
      "text/plain": [
       "[x^2, x^2 + 1, x^2 + x, x^2 + x + 1]"
      ]
     },
     "execution_count": 19,
     "metadata": {},
     "output_type": "execute_result"
    }
   ],
   "source": [
    "list(R.monics(of_degree=2))"
   ]
  },
  {
   "cell_type": "markdown",
   "metadata": {},
   "source": [
    "Esto se puede utilizar para encontrar todos los polinomios irreducibles de un determinado grado."
   ]
  },
  {
   "cell_type": "code",
   "execution_count": 20,
   "metadata": {},
   "outputs": [],
   "source": [
    "l=list(R.monics(of_degree=5))"
   ]
  },
  {
   "cell_type": "code",
   "execution_count": 21,
   "metadata": {},
   "outputs": [
    {
     "data": {
      "text/plain": [
       "[x^5 + x^2 + 1,\n",
       " x^5 + x^3 + 1,\n",
       " x^5 + x^3 + x^2 + x + 1,\n",
       " x^5 + x^4 + x^2 + x + 1,\n",
       " x^5 + x^4 + x^3 + x + 1,\n",
       " x^5 + x^4 + x^3 + x^2 + 1]"
      ]
     },
     "execution_count": 21,
     "metadata": {},
     "output_type": "execute_result"
    }
   ],
   "source": [
    "[a for a in l if a.is_prime()]"
   ]
  },
  {
   "cell_type": "code",
   "execution_count": 22,
   "metadata": {},
   "outputs": [
    {
     "data": {
      "text/plain": [
       "[x^5 + x^2 + 1,\n",
       " x^5 + x^3 + 1,\n",
       " x^5 + x^3 + x^2 + x + 1,\n",
       " x^5 + x^4 + x^2 + x + 1,\n",
       " x^5 + x^4 + x^3 + x + 1,\n",
       " x^5 + x^4 + x^3 + x^2 + 1]"
      ]
     },
     "execution_count": 22,
     "metadata": {},
     "output_type": "execute_result"
    }
   ],
   "source": [
    "filter(is_prime,l)"
   ]
  },
  {
   "cell_type": "markdown",
   "metadata": {},
   "source": [
    "También podemos encontrar los mónicos hasta un grado determinado."
   ]
  },
  {
   "cell_type": "code",
   "execution_count": 23,
   "metadata": {
    "scrolled": true
   },
   "outputs": [
    {
     "data": {
      "text/plain": [
       "[1,\n",
       " x,\n",
       " x + 1,\n",
       " x^2,\n",
       " x^2 + 1,\n",
       " x^2 + x,\n",
       " x^2 + x + 1,\n",
       " x^3,\n",
       " x^3 + 1,\n",
       " x^3 + x,\n",
       " x^3 + x + 1,\n",
       " x^3 + x^2,\n",
       " x^3 + x^2 + 1,\n",
       " x^3 + x^2 + x,\n",
       " x^3 + x^2 + x + 1]"
      ]
     },
     "execution_count": 23,
     "metadata": {},
     "output_type": "execute_result"
    }
   ],
   "source": [
    "list(R.monics(max_degree=3))"
   ]
  },
  {
   "cell_type": "markdown",
   "metadata": {},
   "source": [
    "Como ejemplo, veamos todos los polinomios irreducibles de $\\mathbb Z_2[x]$ hasta grado 5"
   ]
  },
  {
   "cell_type": "code",
   "execution_count": 24,
   "metadata": {},
   "outputs": [
    {
     "data": {
      "text/plain": [
       "[x,\n",
       " x + 1,\n",
       " x^2 + x + 1,\n",
       " x^3 + x + 1,\n",
       " x^3 + x^2 + 1,\n",
       " x^4 + x + 1,\n",
       " x^4 + x^3 + 1,\n",
       " x^4 + x^3 + x^2 + x + 1,\n",
       " x^5 + x^2 + 1,\n",
       " x^5 + x^3 + 1,\n",
       " x^5 + x^3 + x^2 + x + 1,\n",
       " x^5 + x^4 + x^2 + x + 1,\n",
       " x^5 + x^4 + x^3 + x + 1,\n",
       " x^5 + x^4 + x^3 + x^2 + 1]"
      ]
     },
     "execution_count": 24,
     "metadata": {},
     "output_type": "execute_result"
    }
   ],
   "source": [
    "filter(is_prime,R.monics(max_degree=5))"
   ]
  },
  {
   "cell_type": "markdown",
   "metadata": {},
   "source": [
    "Podemos seleccionar un elemento irreducible."
   ]
  },
  {
   "cell_type": "code",
   "execution_count": 25,
   "metadata": {},
   "outputs": [
    {
     "data": {
      "text/plain": [
       "x^3 + x + 1"
      ]
     },
     "execution_count": 25,
     "metadata": {},
     "output_type": "execute_result"
    }
   ],
   "source": [
    "R.irreducible_element(3)"
   ]
  },
  {
   "cell_type": "markdown",
   "metadata": {},
   "source": [
    "Un polinomio $p(x)\\in R[x]$ se dice primitivo si la clase de $x$ genera $R[X]/(p(X))$"
   ]
  },
  {
   "cell_type": "code",
   "execution_count": 28,
   "metadata": {},
   "outputs": [],
   "source": [
    "p=R.irreducible_element(3,algorithm='primitive')"
   ]
  },
  {
   "cell_type": "code",
   "execution_count": 29,
   "metadata": {},
   "outputs": [],
   "source": [
    "I=p*R"
   ]
  },
  {
   "cell_type": "code",
   "execution_count": 30,
   "metadata": {},
   "outputs": [
    {
     "data": {
      "text/plain": [
       "Principal ideal (x^3 + x + 1) of Univariate Polynomial Ring in x over Ring of integers modulo 2 (using NTL)"
      ]
     },
     "execution_count": 30,
     "metadata": {},
     "output_type": "execute_result"
    }
   ],
   "source": [
    "I"
   ]
  },
  {
   "cell_type": "code",
   "execution_count": 31,
   "metadata": {},
   "outputs": [],
   "source": [
    "Q=R.quo(_*R,'a')"
   ]
  },
  {
   "cell_type": "code",
   "execution_count": 32,
   "metadata": {},
   "outputs": [
    {
     "data": {
      "text/plain": [
       "Univariate Quotient Polynomial Ring in a over Ring of integers modulo 2 with modulus x^3 + x + 1"
      ]
     },
     "execution_count": 32,
     "metadata": {},
     "output_type": "execute_result"
    }
   ],
   "source": [
    "Q"
   ]
  },
  {
   "cell_type": "code",
   "execution_count": 33,
   "metadata": {},
   "outputs": [],
   "source": [
    "a=Q.0"
   ]
  },
  {
   "cell_type": "code",
   "execution_count": 34,
   "metadata": {},
   "outputs": [
    {
     "data": {
      "text/plain": [
       "{1, a, a + 1, a^2, a^2 + 1, a^2 + a, a^2 + a + 1}"
      ]
     },
     "execution_count": 34,
     "metadata": {},
     "output_type": "execute_result"
    }
   ],
   "source": [
    "set(a^i for i in range(7))"
   ]
  },
  {
   "cell_type": "code",
   "execution_count": 35,
   "metadata": {},
   "outputs": [
    {
     "data": {
      "text/plain": [
       "7"
      ]
     },
     "execution_count": 35,
     "metadata": {},
     "output_type": "execute_result"
    }
   ],
   "source": [
    "len(_)"
   ]
  },
  {
   "cell_type": "markdown",
   "metadata": {},
   "source": [
    "Vamos ahora a construir un cuerpo con 256 elementos."
   ]
  },
  {
   "cell_type": "code",
   "execution_count": 36,
   "metadata": {},
   "outputs": [],
   "source": [
    "p=R.irreducible_element(8)"
   ]
  },
  {
   "cell_type": "code",
   "execution_count": 37,
   "metadata": {},
   "outputs": [],
   "source": [
    "Q=R.quo(p*R,'a')"
   ]
  },
  {
   "cell_type": "code",
   "execution_count": 38,
   "metadata": {
    "scrolled": true
   },
   "outputs": [
    {
     "data": {
      "text/plain": [
       "Univariate Quotient Polynomial Ring in a over Ring of integers modulo 2 with modulus x^8 + x^4 + x^3 + x^2 + 1"
      ]
     },
     "execution_count": 38,
     "metadata": {},
     "output_type": "execute_result"
    }
   ],
   "source": [
    "Q"
   ]
  },
  {
   "cell_type": "code",
   "execution_count": 39,
   "metadata": {},
   "outputs": [
    {
     "data": {
      "text/plain": [
       "True"
      ]
     },
     "execution_count": 39,
     "metadata": {},
     "output_type": "execute_result"
    }
   ],
   "source": [
    "Q.is_field()"
   ]
  },
  {
   "cell_type": "code",
   "execution_count": 40,
   "metadata": {},
   "outputs": [
    {
     "data": {
      "text/plain": [
       "255"
      ]
     },
     "execution_count": 40,
     "metadata": {},
     "output_type": "execute_result"
    }
   ],
   "source": [
    "a=Q.0\n",
    "len(set(a^i for i in range(2^8-1)))"
   ]
  },
  {
   "cell_type": "markdown",
   "metadata": {},
   "source": [
    "La multiplicación en `Q` se puede hacer por logaritmos. Guardamos en una lista todas las potencias de `a`, que son todos los elementos de `Q`."
   ]
  },
  {
   "cell_type": "code",
   "execution_count": 41,
   "metadata": {},
   "outputs": [],
   "source": [
    "l=[a^i for i in range(2^8-1)]"
   ]
  },
  {
   "cell_type": "markdown",
   "metadata": {},
   "source": [
    "Vamos a multiplicar `a^2+1` por `a^3+a` (el primero representa al 101 en binario, y el segundo a 10010, es decir, 5 y 18 en decimal, respectivamente). Calculamos su posición en la lista `l`, que coincide con el logaritmo en base `a`, y sumamos las posiciones."
   ]
  },
  {
   "cell_type": "code",
   "execution_count": 42,
   "metadata": {},
   "outputs": [
    {
     "data": {
      "text/plain": [
       "50"
      ]
     },
     "execution_count": 42,
     "metadata": {},
     "output_type": "execute_result"
    }
   ],
   "source": [
    "l.index(a^2+1)"
   ]
  },
  {
   "cell_type": "code",
   "execution_count": 43,
   "metadata": {},
   "outputs": [
    {
     "data": {
      "text/plain": [
       "51"
      ]
     },
     "execution_count": 43,
     "metadata": {},
     "output_type": "execute_result"
    }
   ],
   "source": [
    "l.index(a^3+a)"
   ]
  },
  {
   "cell_type": "code",
   "execution_count": 44,
   "metadata": {},
   "outputs": [
    {
     "data": {
      "text/plain": [
       "a^5 + a"
      ]
     },
     "execution_count": 44,
     "metadata": {},
     "output_type": "execute_result"
    }
   ],
   "source": [
    "l[101]"
   ]
  },
  {
   "cell_type": "code",
   "execution_count": 45,
   "metadata": {},
   "outputs": [
    {
     "data": {
      "text/plain": [
       "a^5 + a"
      ]
     },
     "execution_count": 45,
     "metadata": {},
     "output_type": "execute_result"
    }
   ],
   "source": [
    "(a^3+a)*(a^2+1)"
   ]
  },
  {
   "cell_type": "markdown",
   "metadata": {},
   "source": [
    "Si queremos calcular inversos, como $a^{255}=1$, tenemos que si $b=a^x$, entonces $$b^{-1}=1\\times a^{-x}=a^{255-x}.$$"
   ]
  },
  {
   "cell_type": "code",
   "execution_count": 46,
   "metadata": {},
   "outputs": [
    {
     "data": {
      "text/plain": [
       "a^7 + a^5 + a^2 + a + 1"
      ]
     },
     "execution_count": 46,
     "metadata": {},
     "output_type": "execute_result"
    }
   ],
   "source": [
    "1/(a^2+1)"
   ]
  },
  {
   "cell_type": "code",
   "execution_count": 47,
   "metadata": {},
   "outputs": [
    {
     "data": {
      "text/plain": [
       "a^7 + a^5 + a^2 + a + 1"
      ]
     },
     "execution_count": 47,
     "metadata": {},
     "output_type": "execute_result"
    }
   ],
   "source": [
    "l[255-50]"
   ]
  },
  {
   "cell_type": "markdown",
   "metadata": {},
   "source": [
    "Así es como se lleva a cabo la multiplicación y la división en [AES](https://es.wikipedia.org/wiki/Advanced_Encryption_Standard), aunque el polinomio que se usa en ese sistema es $x^8+x^4+x^3+x+1$."
   ]
  },
  {
   "cell_type": "markdown",
   "metadata": {},
   "source": [
    "<font color=\"red\">**Ejercicio**</font>\n",
    "\n",
    "*Demuestra que la clase de $x+1$ genera $\\mathbb Z_2[x]/(x^8+x^4+x^3+x+1)$*\n",
    "\n",
    "*Encuentra $\\log_{x+1} x^5$*"
   ]
  },
  {
   "cell_type": "markdown",
   "metadata": {},
   "source": [
    "Podemos pasar de un elemento de `Q` a `R` levantándolo."
   ]
  },
  {
   "cell_type": "code",
   "execution_count": 48,
   "metadata": {},
   "outputs": [],
   "source": [
    "p=a^8+1"
   ]
  },
  {
   "cell_type": "code",
   "execution_count": 49,
   "metadata": {},
   "outputs": [
    {
     "data": {
      "text/plain": [
       "a^4 + a^3 + a^2"
      ]
     },
     "execution_count": 49,
     "metadata": {},
     "output_type": "execute_result"
    }
   ],
   "source": [
    "p"
   ]
  },
  {
   "cell_type": "code",
   "execution_count": 50,
   "metadata": {},
   "outputs": [],
   "source": [
    "pl=p.lift()"
   ]
  },
  {
   "cell_type": "code",
   "execution_count": 51,
   "metadata": {},
   "outputs": [],
   "source": [
    "cf = pl.coefficients(sparse=False)"
   ]
  },
  {
   "cell_type": "code",
   "execution_count": 52,
   "metadata": {},
   "outputs": [],
   "source": [
    "cf.reverse()"
   ]
  },
  {
   "cell_type": "code",
   "execution_count": 50,
   "metadata": {},
   "outputs": [
    {
     "data": {
      "text/plain": [
       "[1, 1, 1, 0, 0]"
      ]
     },
     "execution_count": 50,
     "metadata": {},
     "output_type": "execute_result"
    }
   ],
   "source": [
    "cf"
   ]
  },
  {
   "cell_type": "markdown",
   "metadata": {},
   "source": [
    "También podemos pasar de coeficientes a polinomios de forma sencilla."
   ]
  },
  {
   "cell_type": "code",
   "execution_count": 53,
   "metadata": {},
   "outputs": [
    {
     "data": {
      "text/plain": [
       "a^4 + a^3 + a^2"
      ]
     },
     "execution_count": 53,
     "metadata": {},
     "output_type": "execute_result"
    }
   ],
   "source": [
    "Q([0,0,1,1,1])"
   ]
  },
  {
   "cell_type": "markdown",
   "metadata": {},
   "source": [
    "Los polinomios primitivos en una variable en $\\mathbb Z_2[x]$ también tienen aplicaciones interesantes en la construcción de [LFSR](https://es.wikipedia.org/wiki/LFSR)s, que se usan para cifrar las comunicaciones GSM, [A5/1](https://es.wikipedia.org/wiki/A5/1).\n",
    "\n",
    "Los LFSR (y las combinaciones de éstos) se usan para crear secuencias de números (pseudo)aleatorios. Estas secuencias las comparten el emisor y el receptor en una conversación. Para cifrar un mensaje basta con hacer posición a posición una suma en $\\mathbb Z_2$ del mensaje y la secuencia creada, y enviar el resultado. El receptor repite la operación y recupera el mensaje original: $x+y+y=x$ en $\\mathbb Z_ 2$."
   ]
  },
  {
   "cell_type": "markdown",
   "metadata": {},
   "source": [
    "## Interpolación y Teorema Chino de los Restos"
   ]
  },
  {
   "cell_type": "markdown",
   "metadata": {},
   "source": [
    "Recordemos que dado $p(x)\\in \\mathbb K[x]$ y $a\\in \\mathbb K$, se tiene que $p(x)\\equiv p(a) \\bmod (x-a)$\n",
    "\n",
    "Podemos usar este hecho para interpolar"
   ]
  },
  {
   "cell_type": "code",
   "execution_count": 54,
   "metadata": {},
   "outputs": [],
   "source": [
    "P.<x>=QQ[]"
   ]
  },
  {
   "cell_type": "code",
   "execution_count": 55,
   "metadata": {},
   "outputs": [
    {
     "data": {
      "text/plain": [
       "1/2*x^2 - 1/2*x + 1"
      ]
     },
     "execution_count": 55,
     "metadata": {},
     "output_type": "execute_result"
    }
   ],
   "source": [
    "CRT([1,2,1],[x-1,x-2,x])"
   ]
  },
  {
   "cell_type": "code",
   "execution_count": 58,
   "metadata": {},
   "outputs": [
    {
     "data": {
      "text/plain": [
       "-1/10*x^3 + 3/5*x^2 - 1/10*x + 3/5"
      ]
     },
     "execution_count": 58,
     "metadata": {},
     "output_type": "execute_result"
    }
   ],
   "source": [
    "c=CRT([1,2,0],[x-1,x-2,x^2+1])\n",
    "c"
   ]
  },
  {
   "cell_type": "code",
   "execution_count": 60,
   "metadata": {},
   "outputs": [
    {
     "data": {
      "text/plain": [
       "[1, 2, 0]"
      ]
     },
     "execution_count": 60,
     "metadata": {},
     "output_type": "execute_result"
    }
   ],
   "source": [
    "[c%p for p in [x-1,x-2,x^2+1]]"
   ]
  },
  {
   "cell_type": "markdown",
   "metadata": {},
   "source": [
    "<font color=\"red\">**Ejercicio**</font>\n",
    "\n",
    "*Encuentra un polinomio en $\\mathbb Q[x]$ que valga 1 en el 0, 2 en -4, y que sea congruente con $x$ módulo $x^2+2$*"
   ]
  },
  {
   "cell_type": "markdown",
   "metadata": {},
   "source": [
    "## Resultantes"
   ]
  },
  {
   "cell_type": "code",
   "execution_count": 61,
   "metadata": {},
   "outputs": [],
   "source": [
    "P.<x,y>=QQ[]\n",
    "f =x*y-1\n",
    "g= x^2+y^2-4"
   ]
  },
  {
   "cell_type": "code",
   "execution_count": 62,
   "metadata": {},
   "outputs": [
    {
     "data": {
      "text/plain": [
       "y^4 - 4*y^2 + 1"
      ]
     },
     "execution_count": 62,
     "metadata": {},
     "output_type": "execute_result"
    }
   ],
   "source": [
    "r=f.resultant(g,x)\n",
    "r"
   ]
  },
  {
   "cell_type": "code",
   "execution_count": 63,
   "metadata": {},
   "outputs": [
    {
     "name": "stdout",
     "output_type": "stream",
     "text": [
      "Defining x, y\n"
     ]
    }
   ],
   "source": [
    "P.inject_variables()"
   ]
  },
  {
   "cell_type": "code",
   "execution_count": 64,
   "metadata": {},
   "outputs": [],
   "source": [
    "z=var(\"z\")"
   ]
  },
  {
   "cell_type": "code",
   "execution_count": 65,
   "metadata": {},
   "outputs": [
    {
     "data": {
      "text/plain": [
       "[z == -sqrt(sqrt(3) + 2), z == sqrt(sqrt(3) + 2), z == -sqrt(-sqrt(3) + 2), z == sqrt(-sqrt(3) + 2)]"
      ]
     },
     "execution_count": 65,
     "metadata": {},
     "output_type": "execute_result"
    }
   ],
   "source": [
    "sols=solve(r.subs({y:z}),z)\n",
    "sols"
   ]
  },
  {
   "cell_type": "code",
   "execution_count": 66,
   "metadata": {},
   "outputs": [],
   "source": [
    "eqx= (f.subs({y:sols[1].rhs()})).subs({x:z})"
   ]
  },
  {
   "cell_type": "code",
   "execution_count": 67,
   "metadata": {
    "scrolled": true
   },
   "outputs": [
    {
     "data": {
      "text/plain": [
       "[z == 1/sqrt(sqrt(3) + 2)]"
      ]
     },
     "execution_count": 67,
     "metadata": {},
     "output_type": "execute_result"
    }
   ],
   "source": [
    "solve(eqx,z)"
   ]
  },
  {
   "cell_type": "code",
   "execution_count": 68,
   "metadata": {},
   "outputs": [
    {
     "data": {
      "text/plain": [
       "0.5176380902050415"
      ]
     },
     "execution_count": 68,
     "metadata": {},
     "output_type": "execute_result"
    }
   ],
   "source": [
    "float(_[0].rhs())"
   ]
  },
  {
   "cell_type": "code",
   "execution_count": 69,
   "metadata": {},
   "outputs": [
    {
     "data": {
      "image/png": "[encoded data removed]",
      "text/plain": [
       "Graphics object consisting of 2 graphics primitives"
      ]
     },
     "execution_count": 69,
     "metadata": {},
     "output_type": "execute_result"
    }
   ],
   "source": [
    "implicit_plot(f,(x,-4,4),(y,-4,4))+implicit_plot(g,(x,-4,4),(y,-4,4),axes=True)"
   ]
  },
  {
   "cell_type": "markdown",
   "metadata": {},
   "source": [
    "Sin tratar $f$ y $g$ como polinomios podríamos haber resuelto esto más fácilmente sobre los complejos."
   ]
  },
  {
   "cell_type": "code",
   "execution_count": 72,
   "metadata": {},
   "outputs": [],
   "source": [
    "x,y=var(\"x,y\")\n",
    "f =x*y-1\n",
    "g= x^2+y^2-4"
   ]
  },
  {
   "cell_type": "code",
   "execution_count": 75,
   "metadata": {},
   "outputs": [
    {
     "data": {
      "text/plain": [
       "[[x == -sqrt(sqrt(3) + 2), y == -1/sqrt(sqrt(3) + 2)], [x == sqrt(sqrt(3) + 2), y == 1/sqrt(sqrt(3) + 2)], [x == -sqrt(-sqrt(3) + 2), y == -1/sqrt(-sqrt(3) + 2)], [x == sqrt(-sqrt(3) + 2), y == 1/sqrt(-sqrt(3) + 2)]]"
      ]
     },
     "execution_count": 75,
     "metadata": {},
     "output_type": "execute_result"
    }
   ],
   "source": [
    "solve([f,g],[x,y])"
   ]
  },
  {
   "cell_type": "code",
   "execution_count": 77,
   "metadata": {},
   "outputs": [
    {
     "ename": "ValueError",
     "evalue": "too many values to unpack",
     "output_type": "error",
     "traceback": [
      "\u001b[0;31m\u001b[0m",
      "\u001b[0;31mValueError\u001b[0mTraceback (most recent call last)",
      "\u001b[0;32m<ipython-input-77-e1fdd66c9806>\u001b[0m in \u001b[0;36m<module>\u001b[0;34m()\u001b[0m\n\u001b[0;32m----> 1\u001b[0;31m \u001b[0mx\u001b[0m\u001b[0;34m,\u001b[0m\u001b[0my\u001b[0m\u001b[0;34m=\u001b[0m\u001b[0mvar\u001b[0m\u001b[0;34m(\u001b[0m\u001b[0;34m\"x,y,a\"\u001b[0m\u001b[0;34m)\u001b[0m\u001b[0;34m\u001b[0m\u001b[0m\n\u001b[0m\u001b[1;32m      2\u001b[0m \u001b[0msolve\u001b[0m\u001b[0;34m(\u001b[0m\u001b[0;34m[\u001b[0m\u001b[0mx\u001b[0m\u001b[0;34m+\u001b[0m\u001b[0ma\u001b[0m\u001b[0;34m*\u001b[0m\u001b[0my\u001b[0m\u001b[0;34m-\u001b[0m\u001b[0mInteger\u001b[0m\u001b[0;34m(\u001b[0m\u001b[0;36m1\u001b[0m\u001b[0;34m)\u001b[0m\u001b[0;34m,\u001b[0m\u001b[0mx\u001b[0m\u001b[0;34m-\u001b[0m\u001b[0mInteger\u001b[0m\u001b[0;34m(\u001b[0m\u001b[0;36m2\u001b[0m\u001b[0;34m)\u001b[0m\u001b[0;34m*\u001b[0m\u001b[0my\u001b[0m\u001b[0;34m]\u001b[0m\u001b[0;34m,\u001b[0m\u001b[0;34m[\u001b[0m\u001b[0mx\u001b[0m\u001b[0;34m,\u001b[0m\u001b[0my\u001b[0m\u001b[0;34m,\u001b[0m\u001b[0ma\u001b[0m\u001b[0;34m]\u001b[0m\u001b[0;34m)\u001b[0m\u001b[0;34m\u001b[0m\u001b[0m\n",
      "\u001b[0;31mValueError\u001b[0m: too many values to unpack"
     ]
    }
   ],
   "source": [
    "x,y=var(\"x,y,a\")\n",
    "solve([x+a*y-1,x-2*y],[x,y])"
   ]
  },
  {
   "cell_type": "markdown",
   "metadata": {},
   "source": [
    "<font color=\"red\">**Ejercicio**</font>\n",
    "\n",
    "*Encuentra los puntos de intersección de la parábola $y=x^2$ y de la circunferencia unidad*"
   ]
  },
  {
   "cell_type": "markdown",
   "metadata": {},
   "source": [
    "<font color=\"red\">**Ejercicio**</font>\n",
    "\n",
    "*[Omar Jayam](https://es.wikipedia.org/wiki/Omar_Jayam) era capaz de resolver cúbicas de la forma $x^3+bx=c$ mediante la intersección de dos cónicas. Para ello interseca la parábola $y=\\frac{x^2}{\\sqrt{b}}$ con el círculo con centro en $(c/(2b),0)$ y que pasa por el origen. La coordenada $x$ del punto de corte en el cuadrante positivo es la solución buscada*\n",
    "\n",
    "*Utiliza este método para resolver $x^3+x=3$ (véase también [este](https://www.geogebra.org/m/rTV3y4Bb) recurso geogebra)*"
   ]
  },
  {
   "cell_type": "code",
   "execution_count": 65,
   "metadata": {},
   "outputs": [
    {
     "data": {
      "image/png": "[encoded data removed]",
      "text/plain": [
       "Graphics object consisting of 2 graphics primitives"
      ]
     },
     "execution_count": 65,
     "metadata": {},
     "output_type": "execute_result"
    }
   ],
   "source": [
    "implicit_plot(y-x^2,(x,-4,4),(y,-4,4),axes=True)+implicit_plot((x-3/2)^2+y^2-9/4,(x,-4,4),(y,-4,4),axes=True)"
   ]
  },
  {
   "cell_type": "markdown",
   "metadata": {},
   "source": [
    "## Órdenes monomiales"
   ]
  },
  {
   "cell_type": "markdown",
   "metadata": {},
   "source": [
    "Por defecto se utiliza el graduado lexicográfico inverso `degrevlex`."
   ]
  },
  {
   "cell_type": "code",
   "execution_count": 66,
   "metadata": {},
   "outputs": [
    {
     "data": {
      "text/plain": [
       "Degree reverse lexicographic term order"
      ]
     },
     "execution_count": 66,
     "metadata": {},
     "output_type": "execute_result"
    }
   ],
   "source": [
    "P.term_order()"
   ]
  },
  {
   "cell_type": "code",
   "execution_count": 67,
   "metadata": {},
   "outputs": [
    {
     "data": {
      "text/plain": [
       "Degree reverse lexicographic term order"
      ]
     },
     "execution_count": 67,
     "metadata": {},
     "output_type": "execute_result"
    }
   ],
   "source": [
    "P2.term_order()"
   ]
  },
  {
   "cell_type": "code",
   "execution_count": 68,
   "metadata": {},
   "outputs": [
    {
     "data": {
      "text/plain": [
       "False"
      ]
     },
     "execution_count": 68,
     "metadata": {},
     "output_type": "execute_result"
    }
   ],
   "source": [
    "x<y"
   ]
  },
  {
   "cell_type": "code",
   "execution_count": 69,
   "metadata": {},
   "outputs": [
    {
     "data": {
      "text/plain": [
       "True"
      ]
     },
     "execution_count": 69,
     "metadata": {},
     "output_type": "execute_result"
    }
   ],
   "source": [
    "x>y"
   ]
  },
  {
   "cell_type": "markdown",
   "metadata": {},
   "source": [
    "Tenemos los siguientes órdenes a nuestra disposición:\n",
    "\n",
    "- `degrevlex` graduado lexicográfico inverso, que es el que viene dado por defecto\n",
    "\n",
    "- `lex` el lexicográfico\n",
    "\n",
    "- `invlex` lexicográfico inverso\n",
    "\n",
    "- `deglex` graduado lexicográfico\n",
    "\n",
    "- Órdenes por bloques"
   ]
  },
  {
   "cell_type": "markdown",
   "metadata": {},
   "source": [
    "*Orden lexicográfico*\n",
    "\n",
    "Dados $a,b\\in \\mathbb N^n$, $a\\preceq_{lex} b$ si la primera coordenada no nula de $b-a$ es positiva "
   ]
  },
  {
   "cell_type": "code",
   "execution_count": 70,
   "metadata": {},
   "outputs": [
    {
     "name": "stdout",
     "output_type": "stream",
     "text": [
      "Defining x0, x1, x2\n"
     ]
    }
   ],
   "source": [
    "P=PolynomialRing(QQ,x,3,order='lex')\n",
    "P.inject_variables()"
   ]
  },
  {
   "cell_type": "markdown",
   "metadata": {},
   "source": [
    "Vamos a definir una lista con todos los monomios de grado total uno y dos\n",
    "\n",
    "Para ello vamos a utilizar `WeightedIntegerVectors` que nos devuelve un iterador con todas las expresiones del primer argumento como combinaciones lineales nonegativas de los elements del segundo argumento\n",
    "\n",
    "Después usaremos que un anillo de polinomios es `callable` y que si se le pasa un diccionario con elemento de la forma {multigrado:coeficiente}, devuelve un polinomio que es suma de esos términos"
   ]
  },
  {
   "cell_type": "code",
   "execution_count": 71,
   "metadata": {},
   "outputs": [
    {
     "data": {
      "text/plain": [
       "-x0*x1^2*x2 + 4*x1"
      ]
     },
     "execution_count": 71,
     "metadata": {},
     "output_type": "execute_result"
    }
   ],
   "source": [
    "P({(1,2,1):-1, (0,1,0):4})"
   ]
  },
  {
   "cell_type": "code",
   "execution_count": 72,
   "metadata": {},
   "outputs": [],
   "source": [
    "ds = list(WeightedIntegerVectors(2,[1,1,1]))+list(WeightedIntegerVectors(1,[1,1,1]))\n",
    "ms=[P({tuple(l):1}) for l in ds]"
   ]
  },
  {
   "cell_type": "code",
   "execution_count": 73,
   "metadata": {},
   "outputs": [
    {
     "data": {
      "text/plain": [
       "[x2, x2^2, x1, x1*x2, x1^2, x0, x0*x2, x0*x1, x0^2]"
      ]
     },
     "execution_count": 73,
     "metadata": {},
     "output_type": "execute_result"
    }
   ],
   "source": [
    "sorted(ms)"
   ]
  },
  {
   "cell_type": "code",
   "execution_count": 74,
   "metadata": {},
   "outputs": [
    {
     "data": {
      "text/plain": [
       "[1, 2, 3]"
      ]
     },
     "execution_count": 74,
     "metadata": {},
     "output_type": "execute_result"
    }
   ],
   "source": [
    "sorted([2,1,3])"
   ]
  },
  {
   "cell_type": "code",
   "execution_count": 75,
   "metadata": {},
   "outputs": [
    {
     "data": {
      "text/plain": [
       "[x2, x1, x0]"
      ]
     },
     "execution_count": 75,
     "metadata": {},
     "output_type": "execute_result"
    }
   ],
   "source": [
    "sorted([x0,x1,x2])"
   ]
  },
  {
   "cell_type": "markdown",
   "metadata": {},
   "source": [
    "*Orden lexicográfico graduado*\n",
    "\n",
    "Para $a,b\\in \\mathbb N^n$, $a\\preceq_{deglex} b$ si $\\sum a_i<\\sum b_i$, o $\\sum a_i=\\sum b_i$ y $a\\preceq_{lex} b$"
   ]
  },
  {
   "cell_type": "code",
   "execution_count": 76,
   "metadata": {},
   "outputs": [],
   "source": [
    "P=PolynomialRing(QQ,x,3,order='deglex')"
   ]
  },
  {
   "cell_type": "code",
   "execution_count": 77,
   "metadata": {},
   "outputs": [
    {
     "name": "stdout",
     "output_type": "stream",
     "text": [
      "Defining x0, x1, x2\n"
     ]
    }
   ],
   "source": [
    "P.inject_variables()"
   ]
  },
  {
   "cell_type": "code",
   "execution_count": 78,
   "metadata": {},
   "outputs": [],
   "source": [
    "ds = list(WeightedIntegerVectors(2,[1,1,1]))+list(WeightedIntegerVectors(1,[1,1,1]))\n",
    "ms=[P({tuple(l):1}) for l in ds]"
   ]
  },
  {
   "cell_type": "code",
   "execution_count": 79,
   "metadata": {},
   "outputs": [
    {
     "data": {
      "text/plain": [
       "[x2, x1, x0, x2^2, x1*x2, x1^2, x0*x2, x0*x1, x0^2]"
      ]
     },
     "execution_count": 79,
     "metadata": {},
     "output_type": "execute_result"
    }
   ],
   "source": [
    "sorted(ms)"
   ]
  },
  {
   "cell_type": "code",
   "execution_count": 80,
   "metadata": {},
   "outputs": [
    {
     "data": {
      "text/plain": [
       "[1, 2, 3]"
      ]
     },
     "execution_count": 80,
     "metadata": {},
     "output_type": "execute_result"
    }
   ],
   "source": [
    "sorted([1,2,3])"
   ]
  },
  {
   "cell_type": "markdown",
   "metadata": {},
   "source": [
    "*Orden lexicográfico graduado inverso*\n",
    "\n",
    "Dados $a,b\\in \\mathbb N^n$, $a\\preceq_{degrevlex} b$ si $\\sum a_i<\\sum b_i$, o $\\sum a_i=\\sum b_i$ y la primera coordenada no nula, empezando por la derecha, de $b-a$ es negativa."
   ]
  },
  {
   "cell_type": "code",
   "execution_count": 81,
   "metadata": {},
   "outputs": [
    {
     "name": "stdout",
     "output_type": "stream",
     "text": [
      "Defining x0, x1, x2\n"
     ]
    }
   ],
   "source": [
    "P=PolynomialRing(QQ,x,3)\n",
    "P.inject_variables()"
   ]
  },
  {
   "cell_type": "code",
   "execution_count": 82,
   "metadata": {},
   "outputs": [
    {
     "data": {
      "text/plain": [
       "[x2, x1, x0, x2^2, x1*x2, x0*x2, x1^2, x0*x1, x0^2]"
      ]
     },
     "execution_count": 82,
     "metadata": {},
     "output_type": "execute_result"
    }
   ],
   "source": [
    "ds = list(WeightedIntegerVectors(2,[1,1,1]))+list(WeightedIntegerVectors(1,[1,1,1]))\n",
    "ms=[P({tuple(l):1}) for l in ds]\n",
    "sorted(ms)"
   ]
  },
  {
   "cell_type": "markdown",
   "metadata": {},
   "source": [
    "Tenemos una serie de comandos para acceder al monomio, coeficiente y término líder"
   ]
  },
  {
   "cell_type": "code",
   "execution_count": 83,
   "metadata": {},
   "outputs": [],
   "source": [
    "P.<x,y>=QQ[]"
   ]
  },
  {
   "cell_type": "code",
   "execution_count": 84,
   "metadata": {},
   "outputs": [
    {
     "data": {
      "text/plain": [
       "x^2 + 2*x*y - y"
      ]
     },
     "execution_count": 84,
     "metadata": {},
     "output_type": "execute_result"
    }
   ],
   "source": [
    "f=x^2+2*x*y-y\n",
    "f"
   ]
  },
  {
   "cell_type": "code",
   "execution_count": 85,
   "metadata": {},
   "outputs": [
    {
     "data": {
      "text/plain": [
       "[x*y, x^2]"
      ]
     },
     "execution_count": 85,
     "metadata": {},
     "output_type": "execute_result"
    }
   ],
   "source": [
    "sorted([x^2,x*y])"
   ]
  },
  {
   "cell_type": "code",
   "execution_count": 86,
   "metadata": {},
   "outputs": [
    {
     "data": {
      "text/plain": [
       "[x^2, x^2, 1, (2, 1)]"
      ]
     },
     "execution_count": 86,
     "metadata": {},
     "output_type": "execute_result"
    }
   ],
   "source": [
    "[f.lm(),f.lt(),f.lc(),f.degrees()]"
   ]
  },
  {
   "cell_type": "code",
   "execution_count": 87,
   "metadata": {},
   "outputs": [
    {
     "data": {
      "text/plain": [
       "[1, 2, -1]"
      ]
     },
     "execution_count": 87,
     "metadata": {},
     "output_type": "execute_result"
    }
   ],
   "source": [
    "f.coefficients()"
   ]
  },
  {
   "cell_type": "code",
   "execution_count": 88,
   "metadata": {},
   "outputs": [
    {
     "data": {
      "text/plain": [
       "[x^2, x*y, y]"
      ]
     },
     "execution_count": 88,
     "metadata": {},
     "output_type": "execute_result"
    }
   ],
   "source": [
    "f.monomials()"
   ]
  },
  {
   "cell_type": "code",
   "execution_count": 89,
   "metadata": {},
   "outputs": [
    {
     "data": {
      "text/plain": [
       "1"
      ]
     },
     "execution_count": 89,
     "metadata": {},
     "output_type": "execute_result"
    }
   ],
   "source": [
    "f.monomial_coefficient(x^2)"
   ]
  },
  {
   "cell_type": "markdown",
   "metadata": {},
   "source": [
    "<font color=\"red\">**Ejercicio**</font>\n",
    "\n",
    "*Ordena mediante el orden lexicográfico y lexicográfico graduado todos los monomios en tres variables de grado 3*\n",
    "\n",
    "*Compara los resultados*"
   ]
  },
  {
   "cell_type": "markdown",
   "metadata": {},
   "source": [
    "## Algoritmo de la división"
   ]
  },
  {
   "cell_type": "markdown",
   "metadata": {},
   "source": [
    "El resto de dividir un polinomio por una secuencia de polinomios depende en general del orden de los polinomios en la secuencia"
   ]
  },
  {
   "cell_type": "code",
   "execution_count": 90,
   "metadata": {},
   "outputs": [
    {
     "name": "stdout",
     "output_type": "stream",
     "text": [
      "Defining x, y, z\n"
     ]
    }
   ],
   "source": [
    "P= PolynomialRing(QQ, ['x','y', 'z'], order='lex')\n",
    "P.inject_variables()"
   ]
  },
  {
   "cell_type": "code",
   "execution_count": 91,
   "metadata": {},
   "outputs": [],
   "source": [
    "f=x^4*y^2+x^2*y^3*z-2*x*y^2*z^3-3*x^2*y*z^4\n",
    "g1=x^3*y-2*x^2*z^2\n",
    "g2=x^2*y^3+x*z^3\n",
    "g3=x*y^2*z-x^2*y*z-3*x*y*x^2"
   ]
  },
  {
   "cell_type": "code",
   "execution_count": 92,
   "metadata": {},
   "outputs": [
    {
     "data": {
      "text/plain": [
       "-3*x^2*y*z^4 + 4*x^2*z^4 - 2*x*y^2*z^3 - x*z^4"
      ]
     },
     "execution_count": 92,
     "metadata": {},
     "output_type": "execute_result"
    }
   ],
   "source": [
    "f.reduce([g1,g2,g3])"
   ]
  },
  {
   "cell_type": "code",
   "execution_count": 93,
   "metadata": {},
   "outputs": [
    {
     "data": {
      "text/plain": [
       "-3*x^2*y*z^4 + 4*x^2*z^4 - 2*x*y^2*z^3 - x*z^4"
      ]
     },
     "execution_count": 93,
     "metadata": {},
     "output_type": "execute_result"
    }
   ],
   "source": [
    "f.reduce([g3,g2,g1])"
   ]
  },
  {
   "cell_type": "markdown",
   "metadata": {},
   "source": [
    "Veamos otro ejemplo"
   ]
  },
  {
   "cell_type": "code",
   "execution_count": 94,
   "metadata": {
    "scrolled": true
   },
   "outputs": [
    {
     "data": {
      "text/plain": [
       "0"
      ]
     },
     "execution_count": 94,
     "metadata": {},
     "output_type": "execute_result"
    }
   ],
   "source": [
    "f=x^2+x-y^2+y\n",
    "f.reduce([x+y,x*y+1])"
   ]
  },
  {
   "cell_type": "code",
   "execution_count": 95,
   "metadata": {},
   "outputs": [
    {
     "data": {
      "text/plain": [
       "0"
      ]
     },
     "execution_count": 95,
     "metadata": {},
     "output_type": "execute_result"
    }
   ],
   "source": [
    "f.reduce([x*y+1,x+y])"
   ]
  },
  {
   "cell_type": "markdown",
   "metadata": {},
   "source": [
    "<font color=\"red\">**Ejercicio**</font>\n",
    "\n",
    "*Dados los polinomios*\n",
    "$$\n",
    "\\begin{array}{ll}\n",
    "F = X^3 Y^2 Z + X^2 Y^3 Z^2 + 2 X Y Z - Y^4 + 1;\\\\\n",
    "G_1 = X Y^2 + Y Z + Y + 2 Z;\\\\\n",
    "G_2 = X Z^2 + Y - Z + 1;\\\\\n",
    "G_3 = X Y Z + Y^2 Z^2 + X - Y + 2.\\\\\n",
    "\\end{array}\n",
    "$$\n",
    "\n",
    "1. *Determina la división de $F$ por $\\{G_1,G_2,G_3\\}$ con el orden lexicográfico para la ordenación dada por $X>Y>Z$*\n",
    "\n",
    "2. *Haz lo mismo con el orden graduado lexicográfico*\n",
    "\n",
    "3. *Haz lo mismo con el orden graduado lexicográfico inverso*\n",
    "\n"
   ]
  },
  {
   "cell_type": "markdown",
   "metadata": {},
   "source": [
    "<font color=\"red\">**Ejercicio**</font>\n",
    "\n",
    "*Divide, con el orden lexicográfico, el polinomio $F$ por el conjunto, ordenado, de polinomios $\\mathbb{H}=\\{H_1,H_2\\}$, siendo:*\n",
    "\n",
    "1. $F=XYZ$;      $H_1=X+Z$;     $H_2=Y-Z$.\n",
    "\n",
    "1. $F=XY^2-X$;    $H_1=XY+1$;    $H_2=Y^2-1$.\n",
    "\n",
    "1. $F=XY^2-X$;    $H_1=Y^2-1$;   $H_2=XY+1$."
   ]
  },
  {
   "cell_type": "markdown",
   "metadata": {
    "collapsed": true
   },
   "source": [
    "## Ideales y anillos cociente"
   ]
  },
  {
   "cell_type": "markdown",
   "metadata": {},
   "source": [
    "Recordemos que en `sage` podemos hacer cálculos explícitos con ideales\n",
    "\n",
    "Construyamos $\\mathbb Q[x,y]/(y+x^2-1,x y-2y^2+2y)$ y veamos si es un cuerpo"
   ]
  },
  {
   "cell_type": "code",
   "execution_count": 96,
   "metadata": {},
   "outputs": [],
   "source": [
    "P.<x,y>=QQ[]"
   ]
  },
  {
   "cell_type": "code",
   "execution_count": 97,
   "metadata": {},
   "outputs": [],
   "source": [
    "a=(y+x^2-1,x*y-2*y^2+2*y)*P"
   ]
  },
  {
   "cell_type": "code",
   "execution_count": 98,
   "metadata": {},
   "outputs": [],
   "source": [
    "Q=P.quotient(a)"
   ]
  },
  {
   "cell_type": "code",
   "execution_count": 99,
   "metadata": {
    "scrolled": true
   },
   "outputs": [
    {
     "data": {
      "text/plain": [
       "Quotient of Multivariate Polynomial Ring in x, y over Rational Field by the ideal (x^2 + y - 1, x*y - 2*y^2 + 2*y)"
      ]
     },
     "execution_count": 99,
     "metadata": {},
     "output_type": "execute_result"
    }
   ],
   "source": [
    "Q"
   ]
  },
  {
   "cell_type": "markdown",
   "metadata": {},
   "source": [
    "Si intentamos `Q.is_field()` nos dirá que no está implementado, ni tampoco `a.is_maximal()`. Intentemos ver si es primo."
   ]
  },
  {
   "cell_type": "code",
   "execution_count": 100,
   "metadata": {},
   "outputs": [
    {
     "data": {
      "text/plain": [
       "False"
      ]
     },
     "execution_count": 100,
     "metadata": {},
     "output_type": "execute_result"
    }
   ],
   "source": [
    "a.is_prime()"
   ]
  },
  {
   "cell_type": "markdown",
   "metadata": {},
   "source": [
    "Por tanto `Q` no es un cuerpo"
   ]
  },
  {
   "cell_type": "markdown",
   "metadata": {},
   "source": [
    "Para la pertenencia de un elemento a un ideal, basta con usar `in`"
   ]
  },
  {
   "cell_type": "code",
   "execution_count": 101,
   "metadata": {
    "scrolled": true
   },
   "outputs": [
    {
     "data": {
      "text/plain": [
       "True"
      ]
     },
     "execution_count": 101,
     "metadata": {},
     "output_type": "execute_result"
    }
   ],
   "source": [
    "(y^3-1)*(y+x^2-1)+(x^5)*(x*y-2*y^2+2*y) in a"
   ]
  },
  {
   "cell_type": "code",
   "execution_count": 102,
   "metadata": {},
   "outputs": [
    {
     "data": {
      "text/plain": [
       "False"
      ]
     },
     "execution_count": 102,
     "metadata": {},
     "output_type": "execute_result"
    }
   ],
   "source": [
    "x^6 in a"
   ]
  },
  {
   "cell_type": "markdown",
   "metadata": {},
   "source": [
    "El anillo `Q` es también un espacio vectorial sobre $\\mathbb Q$. Un sistema de generadores sobre $\\mathbb Q$ es $\\{ \\bar{x}^n\\bar{y}^m \\mid n,m\\in \\mathbb N\\}$, con $\\bar{x}$ y $\\bar{y}$ las clases de $x$ e $y$ en `Q`. Veamos cuántos de esos monomios son linealmente independientes. "
   ]
  },
  {
   "cell_type": "code",
   "execution_count": 103,
   "metadata": {},
   "outputs": [
    {
     "data": {
      "text/plain": [
       "y^2"
      ]
     },
     "execution_count": 103,
     "metadata": {},
     "output_type": "execute_result"
    }
   ],
   "source": [
    "a.reduce(y^2)"
   ]
  },
  {
   "cell_type": "code",
   "execution_count": 104,
   "metadata": {},
   "outputs": [
    {
     "data": {
      "text/plain": [
       "7/4*y^2 - 3/4*y"
      ]
     },
     "execution_count": 104,
     "metadata": {},
     "output_type": "execute_result"
    }
   ],
   "source": [
    "a.reduce(y^3)"
   ]
  },
  {
   "cell_type": "code",
   "execution_count": 105,
   "metadata": {},
   "outputs": [
    {
     "data": {
      "text/plain": [
       "x"
      ]
     },
     "execution_count": 105,
     "metadata": {},
     "output_type": "execute_result"
    }
   ],
   "source": [
    "a.reduce(x)"
   ]
  },
  {
   "cell_type": "code",
   "execution_count": 106,
   "metadata": {},
   "outputs": [
    {
     "data": {
      "text/plain": [
       "-y + 1"
      ]
     },
     "execution_count": 106,
     "metadata": {},
     "output_type": "execute_result"
    }
   ],
   "source": [
    "a.reduce(x^2)"
   ]
  },
  {
   "cell_type": "code",
   "execution_count": 107,
   "metadata": {},
   "outputs": [
    {
     "data": {
      "text/plain": [
       "2*y^2 - 2*y"
      ]
     },
     "execution_count": 107,
     "metadata": {},
     "output_type": "execute_result"
    }
   ],
   "source": [
    "a.reduce(x*y)"
   ]
  },
  {
   "cell_type": "markdown",
   "metadata": {
    "collapsed": true
   },
   "source": [
    "De esta forma, una base de `Q` como $\\mathbb Q$ espacio vectorial es $\\{ 1, \\bar{x}, \\bar{y},\\bar{y}^2\\}$, y $\\dim_{\\mathbb Q}Q=4$\n",
    "\n",
    "El comando `normal_basis` se puede utilizar para calcular esta base, en el caso en que  `Q` sea finito dimensional"
   ]
  },
  {
   "cell_type": "code",
   "execution_count": 108,
   "metadata": {
    "scrolled": true
   },
   "outputs": [
    {
     "data": {
      "text/plain": [
       "[y^2, y, x, 1]"
      ]
     },
     "execution_count": 108,
     "metadata": {},
     "output_type": "execute_result"
    }
   ],
   "source": [
    "a.normal_basis()"
   ]
  },
  {
   "cell_type": "markdown",
   "metadata": {},
   "source": [
    "<font color=\"red\">**Ejercicio** </font>\n",
    "\n",
    "*Calcula una base del $\\mathbb Q$-espacio vectorial $\\mathbb Q[x,y]/(x^3 y+x y^2, y^2 x+2 x)$*"
   ]
  },
  {
   "cell_type": "markdown",
   "metadata": {},
   "source": [
    "### Operaciones básicas de ideales de polinomios"
   ]
  },
  {
   "cell_type": "code",
   "execution_count": 109,
   "metadata": {},
   "outputs": [],
   "source": [
    "b=(x^3-x*y,y^4-x*y^3+x,x^4*y^3-x*y^2)*P"
   ]
  },
  {
   "cell_type": "markdown",
   "metadata": {},
   "source": [
    "La intersección, $a\\cap b$, se calcula:"
   ]
  },
  {
   "cell_type": "code",
   "execution_count": 110,
   "metadata": {},
   "outputs": [
    {
     "data": {
      "text/plain": [
       "Ideal (4*x*y^2 - 3*x*y, 2*x^2*y + x*y, 2*x^4 - 2*x^2 - x*y, 128*y^5 - 128*y^4 + 128*x^3 + 101*x*y - 128*x) of Multivariate Polynomial Ring in x, y over Rational Field"
      ]
     },
     "execution_count": 110,
     "metadata": {},
     "output_type": "execute_result"
    }
   ],
   "source": [
    "a.intersection(b)"
   ]
  },
  {
   "cell_type": "markdown",
   "metadata": {},
   "source": [
    "La suma"
   ]
  },
  {
   "cell_type": "code",
   "execution_count": 111,
   "metadata": {
    "scrolled": true
   },
   "outputs": [
    {
     "data": {
      "text/plain": [
       "Ideal (x^2 + y - 1, x*y - 2*y^2 + 2*y, x^3 - x*y, -x*y^3 + y^4 + x, x^4*y^3 - x*y^2) of Multivariate Polynomial Ring in x, y over Rational Field"
      ]
     },
     "execution_count": 111,
     "metadata": {},
     "output_type": "execute_result"
    }
   ],
   "source": [
    "a+b"
   ]
  },
  {
   "cell_type": "markdown",
   "metadata": {},
   "source": [
    "El producto"
   ]
  },
  {
   "cell_type": "code",
   "execution_count": 112,
   "metadata": {
    "scrolled": true
   },
   "outputs": [
    {
     "data": {
      "text/plain": [
       "Ideal (x^5 - x^3 - x*y^2 + x*y, -x^3*y^3 + x^2*y^4 - x*y^4 + y^5 + x*y^3 - y^4 + x^3 + x*y - x, x^6*y^3 + x^4*y^4 - x^4*y^3 - x^3*y^2 - x*y^3 + x*y^2, x^4*y - 2*x^3*y^2 + 2*x^3*y - x^2*y^2 + 2*x*y^3 - 2*x*y^2, -x^2*y^4 + 3*x*y^5 - 2*y^6 - 2*x*y^4 + 2*y^5 + x^2*y - 2*x*y^2 + 2*x*y, x^5*y^4 - 2*x^4*y^5 + 2*x^4*y^4 - x^2*y^3 + 2*x*y^4 - 2*x*y^3) of Multivariate Polynomial Ring in x, y over Rational Field"
      ]
     },
     "execution_count": 112,
     "metadata": {},
     "output_type": "execute_result"
    }
   ],
   "source": [
    "a*b"
   ]
  },
  {
   "cell_type": "markdown",
   "metadata": {},
   "source": [
    "El cociente $a:b$"
   ]
  },
  {
   "cell_type": "code",
   "execution_count": 113,
   "metadata": {
    "scrolled": true
   },
   "outputs": [
    {
     "data": {
      "text/plain": [
       "Ideal (x*y - 2*y^2 + 2*y, x^2 + y - 1, 4*y^3 - 7*y^2 + 3*y) of Multivariate Polynomial Ring in x, y over Rational Field"
      ]
     },
     "execution_count": 113,
     "metadata": {},
     "output_type": "execute_result"
    }
   ],
   "source": [
    "a.quotient(b)"
   ]
  },
  {
   "cell_type": "markdown",
   "metadata": {},
   "source": [
    "El radical, $\\sqrt{a}$"
   ]
  },
  {
   "cell_type": "code",
   "execution_count": 114,
   "metadata": {},
   "outputs": [
    {
     "data": {
      "text/plain": [
       "Ideal (x*y - 2*y^2 + 2*y, x^2 + y - 1) of Multivariate Polynomial Ring in x, y over Rational Field"
      ]
     },
     "execution_count": 114,
     "metadata": {},
     "output_type": "execute_result"
    }
   ],
   "source": [
    "a.radical()"
   ]
  },
  {
   "cell_type": "markdown",
   "metadata": {},
   "source": [
    "<font color=\"red\">**Ejercicio**</font>\n",
    "\n",
    "*Calcula la intersección de los ideales $\\mathfrak{a}=(X,Y^2Z,YZ^2)$ y $\\mathfrak{b}=(X^3YZ,X^2Y,Y^2Z^3)$ en el anillo $\\mathbb Q[X,Y,Z]$*"
   ]
  },
  {
   "cell_type": "markdown",
   "metadata": {},
   "source": [
    "<font color=\"red\">**Ejercicio**</font>\n",
    "\n",
    "Determina los siguientes ideales de $\\mathbb Q[X,Y,Z]$\n",
    "\n",
    "1.  $\\mathfrak{a}=(X,Y,Z)\\cap(X-1,Y-1,Z-1)\\cap(X+1,Y+1,Z+1)$\n",
    "\n",
    "1. $\\mathfrak{b}=(\\mathfrak{a}:XYZ)$\n",
    "\n",
    "1. $\\mathfrak{c}=(\\mathfrak{a}:X^3Y^2Z)$"
   ]
  },
  {
   "cell_type": "markdown",
   "metadata": {},
   "source": [
    "<font color=\"red\">**Ejercicio**</font>\n",
    "\n",
    "Determina la suma y la intersección de los siguientes ideales\n",
    "$$\n",
    "\\begin{array}{ll}\n",
    "\\mathfrak{a}=(X+Y^2+Y+1,X-Z^2+Z-1)\\\\\n",
    "\\mathfrak{b}=(XY-YZ+1,Y^2+Y-1)\n",
    "\\end{array}\n",
    "$$"
   ]
  }
 ],
 "metadata": {
  "kernelspec": {
   "display_name": "SageMath 7.5.1",
   "language": "",
   "name": "sagemath"
  },
  "language_info": {
   "codemirror_mode": {
    "name": "ipython",
    "version": 2
   },
   "file_extension": ".py",
   "mimetype": "text/x-python",
   "name": "python",
   "nbconvert_exporter": "python",
   "pygments_lexer": "ipython2",
   "version": "2.7.13"
  }
 },
 "nbformat": 4,
 "nbformat_minor": 1
}

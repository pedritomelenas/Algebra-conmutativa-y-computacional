{
 "cells": [
  {
   "cell_type": "markdown",
   "metadata": {},
   "source": [
    "# McNuggets "
   ]
  },
  {
   "cell_type": "markdown",
   "metadata": {},
   "source": [
    "## La combinación más barata"
   ]
  },
  {
   "cell_type": "markdown",
   "metadata": {},
   "source": [
    "Queremos es encontrar la combinación con menos coste, con por ejemplo precio de 5,7,10 euros las cajas de 6,9, y 20, respectivamente. \n",
    "\n",
    "Definimos un orden con esos pesos en las variables $u_1,u_2,u_3$, y comprobamos si $z^{50}$ está en la imagen del morfismo inducido por $u_1\\mapsto z^6,u_2\\mapsto z^9,u_3\\mapsto z^{20}$. Para ello usamos el Theorem 1.11 del libro  [Using Algebraic Geometry](https://www.springer.com/la/book/9780387207063), con el siguiente anillo e ideal."
   ]
  },
  {
   "cell_type": "code",
   "execution_count": 18,
   "metadata": {
    "collapsed": false
   },
   "outputs": [
    {
     "name": "stdout",
     "output_type": "stream",
     "text": [
      "Defining z, u1, u2, u3\n"
     ]
    }
   ],
   "source": [
    "T1=TermOrder('lex',1)\n",
    "T2=TermOrder('wdegrevlex',(5,7,10))\n",
    "T=T1+T2\n",
    "PMP = PolynomialRing(QQ,[\"z\",\"u1\",\"u2\",\"u3\"],order=T)\n",
    "PMP.inject_variables()"
   ]
  },
  {
   "cell_type": "code",
   "execution_count": 21,
   "metadata": {
    "collapsed": true
   },
   "outputs": [],
   "source": [
    "IMP = [u1-z^6,u2-z^9,u3-z^20]*PMP"
   ]
  },
  {
   "cell_type": "code",
   "execution_count": 22,
   "metadata": {
    "collapsed": false
   },
   "outputs": [
    {
     "data": {
      "text/plain": [
       "u1^2*u2^2*u3"
      ]
     },
     "execution_count": 22,
     "metadata": {},
     "output_type": "execute_result"
    }
   ],
   "source": [
    "IMP.reduce(z^50)"
   ]
  },
  {
   "cell_type": "markdown",
   "metadata": {},
   "source": [
    "Luego la combinación 2 cajas de seis más dos de nueve y una de veinte es la más barata."
   ]
  },
  {
   "cell_type": "markdown",
   "metadata": {},
   "source": [
    "## Todas las posibles combinaciones \n",
    "\n",
    "Veamos de cuántas formas podemos comprar 50 nuggets siendo las cajas de 6,9 y 20 nuggets, respectivamente.\n",
    "\n",
    "Tenemos que resolver la ecuación $6x+9y+20z=50$ sobre los enteros no negativos (naturales).\n",
    "Si homogeneizamos la equación con una variable extra, tenemos $6x+9y+20z-50t=0$, y nos quedaremos con las soluciones que tengan 1 en la última coordenada.\n",
    "\n",
    "Vamos a utilizar el Theorem 2.9 del libro [Using Algebraic Geometry](https://www.springer.com/la/book/9780387207063). Necesitamos una incógnita por ecuación, y dos por cada variable. Además, uno de los coeficientes es negativo, por lo que necesitamos una incógnita extra."
   ]
  },
  {
   "cell_type": "code",
   "execution_count": 1,
   "metadata": {
    "collapsed": false
   },
   "outputs": [
    {
     "name": "stdout",
     "output_type": "stream",
     "text": [
      "Defining z, t, u1, u2, u3, u4, w1, w2, w3, w4\n"
     ]
    }
   ],
   "source": [
    "PMN=PolynomialRing(QQ,[\"z\",\"t\",\"u1\",\"u2\",\"u3\",\"u4\",\"w1\",\"w2\",\"w3\",\"w4\"],order=\"degrevlex(2),degrevlex(4),degrevlex(4)\")\n",
    "PMN.inject_variables()\n"
   ]
  },
  {
   "cell_type": "code",
   "execution_count": 2,
   "metadata": {
    "collapsed": true
   },
   "outputs": [],
   "source": [
    "IMN=[u1-w1*z^6,u2-w2*z^9,u3-w3*z^20,u4-w4*t^50,t*z-1]*PMN"
   ]
  },
  {
   "cell_type": "code",
   "execution_count": 4,
   "metadata": {
    "collapsed": true
   },
   "outputs": [],
   "source": [
    "grmn=IMN.groebner_basis()"
   ]
  },
  {
   "cell_type": "code",
   "execution_count": 6,
   "metadata": {
    "collapsed": false
   },
   "outputs": [
    {
     "data": {
      "text/plain": [
       "[u1^5*u3*u4 - w1^5*w3*w4, u1^2*u2^2*u3*u4 - w1^2*w2^2*w3*w4]"
      ]
     },
     "execution_count": 6,
     "metadata": {},
     "output_type": "execute_result"
    }
   ],
   "source": [
    "[g for g in grmn if all(x in [u1,u2,u3,u4] for x in g.monomials()[0].variables()) \n",
    "     and all(x in [w1,w2,w3,w4] for x in g.monomials()[1].variables())\n",
    "    and g.degree(w4)==1 and g.degree(u4)==1 and g.degree(u1)==g.degree(w1) and g.degree(u2)==g.degree(w2) \n",
    "     and g.degree(u3)==g.degree(w3)]"
   ]
  },
  {
   "cell_type": "code",
   "execution_count": 7,
   "metadata": {
    "collapsed": false
   },
   "outputs": [
    {
     "data": {
      "text/plain": [
       "Integer vectors of 50 weighted by [6, 9, 20]"
      ]
     },
     "execution_count": 7,
     "metadata": {},
     "output_type": "execute_result"
    }
   ],
   "source": [
    "WeightedIntegerVectors(50,[6,9,20])"
   ]
  },
  {
   "cell_type": "code",
   "execution_count": 8,
   "metadata": {
    "collapsed": false
   },
   "outputs": [
    {
     "data": {
      "text/plain": [
       "[[2, 2, 1], [5, 0, 1]]"
      ]
     },
     "execution_count": 8,
     "metadata": {},
     "output_type": "execute_result"
    }
   ],
   "source": [
    "list(_)"
   ]
  }
 ],
 "metadata": {
  "kernelspec": {
   "display_name": "SageMath 7.5.1",
   "language": "",
   "name": "sagemath"
  },
  "language_info": {
   "codemirror_mode": {
    "name": "ipython",
    "version": 2
   },
   "file_extension": ".py",
   "mimetype": "text/x-python",
   "name": "python",
   "nbconvert_exporter": "python",
   "pygments_lexer": "ipython2",
   "version": "2.7.13"
  }
 },
 "nbformat": 4,
 "nbformat_minor": 2
}

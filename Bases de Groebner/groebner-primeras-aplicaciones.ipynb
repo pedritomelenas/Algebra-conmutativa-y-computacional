{
 "cells": [
  {
   "cell_type": "markdown",
   "metadata": {},
   "source": [
    "# Bases de Gröbner -- primeras aplicaciones\n",
    "\n",
    "Para estas primeras aplicaciones vamos a seguir los Capítulos 2 y 4 del libro\n",
    "\n",
    "- [CLO] [D. A. Cox, J. Little, D. O'Shea, Ideals, Varieties, and Algorithms, An Introduction to Computational Algebraic Geometry and Commutative Algebra, Springer](http://link.springer.com/book/10.1007%2F978-3-319-16721-3)\n",
    "\n",
    "Algunos de los ejercicios están extraídos de las notas de trabajo de [Pascual Jara](http://www.ugr.es/~pjara) para la asignatura [Álgebra Conmutativa y Computacional](http://grados.ugr.es/matematicas/pages/infoacademica/guiasdocentes/actual/optativas/Algebra_Conmutativa_y_Computacional)"
   ]
  },
  {
   "cell_type": "markdown",
   "metadata": {},
   "source": [
    "## `groebner`"
   ]
  },
  {
   "cell_type": "markdown",
   "metadata": {},
   "source": [
    "Con `groebner` podemos calcular la base de Gröbner de un ideal (para el orden especificado en el anillo de polinomios donde esté definido)\n",
    "\n",
    "Recordemos que si no se especifica ningún orden, se toma por defecto `degrevlex`"
   ]
  },
  {
   "cell_type": "code",
   "execution_count": 1,
   "metadata": {
    "collapsed": true
   },
   "outputs": [],
   "source": [
    "P.<x,y>=QQ[]"
   ]
  },
  {
   "cell_type": "code",
   "execution_count": 2,
   "metadata": {
    "collapsed": true
   },
   "outputs": [],
   "source": [
    "I=(x^2-y^3,x)*P"
   ]
  },
  {
   "cell_type": "code",
   "execution_count": 3,
   "metadata": {},
   "outputs": [
    {
     "data": {
      "text/plain": [
       "[y^3, x]"
      ]
     },
     "execution_count": 3,
     "metadata": {},
     "output_type": "execute_result"
    }
   ],
   "source": [
    "I.groebner_basis()"
   ]
  },
  {
   "cell_type": "markdown",
   "metadata": {},
   "source": [
    "<font color=\"red\">**Ejercicio**</font>\n",
    "\n",
    "Sea $\\mathfrak{a}=(X^4-Y^4+Z^3-1,X^3+Y^2+Z^2-1)\\subseteq{K[X,Y,Z]}$.\n",
    "\n",
    "1. Demuestra que hay cinco elementos en una base de Groebner reducida para $\\mathfrak{a}$ respecto al orden lexicográfico con $X>Y>Z$. (El grado máximo entre los cinco generadores es 12 y el número máximo de términos monomiales entre los cinco generadores es 35.)\n",
    "\n",
    "1. Demuestra que hay dos elementos en una base de Groebner reducida para $\\mathfrak{a}$ respecto al orden lexicográfico con $Y>Z>X$. (El grado máximo es 6 y el número máximo de términos es 8.)\n",
    "\n",
    "1.  Demuestra que para el orden `degrevlex` la base de Groebner reducida de $\\mathfrak{a}$ es $\\{X^3+Y^2+Z^2-1,XY^2+XZ^2-X+Y^4-Z^3+1\\}$.\n"
   ]
  },
  {
   "cell_type": "markdown",
   "metadata": {},
   "source": [
    "<font color=\"red\">**Ejercicio**</font>\n",
    "\n",
    "Determina una base de Groebner del ideal $\\mathfrak{a}$ generado por\n",
    "$F=X^2+Y^2+Z^2+XZ$,\n",
    "$G=X^4+X^4Y^2+XZ^3-Z^4+2$,\n",
    "$H=X^2+XY-YZ+3Y^2-4Z^2-1$\n",
    "en los siguiente casos:\n",
    "1. con el orden lexicográfico.\n",
    "\n",
    "1. con el orden lexicográfico graduado.\n",
    "\n",
    "1. con el orden lexicográfico graduado inverso."
   ]
  },
  {
   "cell_type": "markdown",
   "metadata": {},
   "source": [
    "## Pertenencia\n",
    "\n",
    "Las bases de Gröbner resuelven el problema de pertenencia a un ideal $I$, ya que $a\\in I$ si y sólo si la forma normal respecto de $a$ respecto a cualquier base de Gröbner de $I$ es 0."
   ]
  },
  {
   "cell_type": "code",
   "execution_count": 4,
   "metadata": {
    "collapsed": true
   },
   "outputs": [],
   "source": [
    "P.<x,y>=QQ[]"
   ]
  },
  {
   "cell_type": "code",
   "execution_count": 5,
   "metadata": {
    "collapsed": true
   },
   "outputs": [],
   "source": [
    "I=(x^2-y^3,x)*P"
   ]
  },
  {
   "cell_type": "code",
   "execution_count": 6,
   "metadata": {},
   "outputs": [
    {
     "data": {
      "text/plain": [
       "True"
      ]
     },
     "execution_count": 6,
     "metadata": {},
     "output_type": "execute_result"
    }
   ],
   "source": [
    "y^3 in I"
   ]
  },
  {
   "cell_type": "code",
   "execution_count": 7,
   "metadata": {},
   "outputs": [
    {
     "data": {
      "text/plain": [
       "False"
      ]
     },
     "execution_count": 7,
     "metadata": {},
     "output_type": "execute_result"
    }
   ],
   "source": [
    "y in I"
   ]
  },
  {
   "cell_type": "markdown",
   "metadata": {},
   "source": [
    "<font color=\"red\">**Ejercicio**</font>\n",
    "\n",
    "Dados los polinomios\n",
    "$$\n",
    "\\begin{array}{ll}\n",
    "F   &= X^3 Y^2 Z + X^2 Y^3 Z^2 + 2 X Y Z - Y^4 + 1\\\\\n",
    "H   &= X^2 Y^2- X^2 Z- X Y^2 Z^3+ X Y^2 Z+ X Y Z+ 3 X Y- X Z^2+ Y^3 Z^2- Y^2- Y Z- Z-1\\\\\n",
    "G_1 &= X Y^2 + Y Z + Y + 2 Z\\\\\n",
    "G_2 &= X Z^2 + Y - Z + 1\\\\\n",
    "G_3 &= X Y Z + Y^2 Z^2 + X - Y + 2\n",
    "\\end{array}\n",
    "$$\n",
    "1. ¿Pertenece $F$ al ideal generado por $\\{G_1,G_2,G_3\\}$?\n",
    "\n",
    "2. ¿Pertenece $H$ al ideal generado por $\\{G_1,G_2,G_3\\}$?\n"
   ]
  },
  {
   "cell_type": "markdown",
   "metadata": {},
   "source": [
    "<font color=\"red\">**Ejercicio**</font>\n",
    "\n",
    "1. En $K[X,Y,Z]$ fijamos la ordenación lexicográfica con $X>Y>Z$. Determina una base de Gröbner del ideal $\\mathfrak{a}=(XZ,XY-Z,YZ-X)$. ¿El polinomio $X^3+X+1$ pertenece a $\\mathfrak{a}$?\n",
    "\n",
    "1. En $K[X,Y]$ fijamos la ordenación lexicográfica con $X>Y$. Determina una base de Gröbner del ideal $\\mathfrak{b}=(X^2-Y,Y^2-X,X^2Y^2-XY)$. ¿El polinomio $X^4+X+1$ pertenece a $\\mathfrak{b}$?\n"
   ]
  },
  {
   "cell_type": "markdown",
   "metadata": {},
   "source": [
    "<font color=\"red\">**Ejercicio**</font>\n",
    "\n",
    "Sean los polinomios\n",
    "$$\n",
    "G_1=X^2YZ+Y^2Z+1,\n",
    "G_2=XY^2Z+YZ^2-2,\n",
    "G_3=XYZ^2+Z+3\\in\\mathbb{Q}[X,Y,Z],\n",
    "$$\n",
    "y llamamos $\\mathfrak{a}$ al ideal generado por $G_1,G_2,G_3$.\n",
    "\n",
    "1. Determina una base de Groebner del ideal $\\mathfrak{a}$\n",
    "\n",
    "2. ¿Es $\\{G_1,G_2,G_3\\}$ una base de Gröbner de $\\mathfrak{a}$?\n",
    "\n",
    "3.  Estudia si el polinomio $F=XYZ+1$ pertenece al ideal $\\mathfrak{a}$.\n",
    "\n",
    "4.  Se consideran los polinomios $F_1=3X^2Z^9+Z^{11}-1$, $F_2=Y^2Z^9+4Z^{12}+Z^8-5$. Da los representantes canónicos de las clases de $F_1$, $F_2$ y $F_1F_2$.\n",
    "\n",
    "5. ¿Cuál es la dimensión del $\\mathbb Q$-espacio vectorial $\\mathbb{Q}[X,Y,Z]/\\mathfrak{a}$?\n"
   ]
  },
  {
   "cell_type": "markdown",
   "metadata": {},
   "source": [
    "## Igualdad e inclusión de ideales"
   ]
  },
  {
   "cell_type": "markdown",
   "metadata": {},
   "source": [
    "La inclusión la podemos resolver viendo si los generadores de un ideal están en el otro, y esto se resuelve con formas normales respecto a una bese de Gröbner (problema de pertenencia visto arriba)\n",
    "\n",
    "Para la igualdad basta con comparar bases de Gröbner reducidas respecto de un orden prefijado"
   ]
  },
  {
   "cell_type": "markdown",
   "metadata": {},
   "source": [
    "<font color=\"red\">**Ejercicio**</font>\n",
    "\n",
    "Demuestra que los ideales $\\mathfrak{a}=(X^3-YZ,YZ+Y)$, $\\mathfrak{b}=(X^3Z+X^3,X^3+Y)$ de $K[X,Y,Z]$ son iguales.\n"
   ]
  },
  {
   "cell_type": "markdown",
   "metadata": {},
   "source": [
    "## Resolución de sistemas de ecuaciones polinomiales\n",
    "\n",
    "Sea $K$ un cuerpo algebraicamente cerrado y sean $f_1,\\ldots, f_k\\in K[x_1,\\ldots,x_n]$. Sabemos por el teorema de los ceros de Hilbert que el sistema de ecuaciones $f_1=0,\\ldots, f_k=0$ no tiene solución en $K$ si y sólo si $1\\in (f_1,\\ldots, f_k)$\n",
    "\n",
    "Si queremos resolver el sistema, podemos calcular una base de Gröbner de $(f_1,\\ldots,f_k)$ respecto de cualquier orden lexicográfico, ya que esto triangularizará el sistema de ecuaciones"
   ]
  },
  {
   "cell_type": "code",
   "execution_count": 8,
   "metadata": {},
   "outputs": [
    {
     "name": "stdout",
     "output_type": "stream",
     "text": [
      "Defining x, y\n"
     ]
    }
   ],
   "source": [
    "P=PolynomialRing(QQ,[\"x\",\"y\"],order=\"lex\")\n",
    "P.inject_variables()"
   ]
  },
  {
   "cell_type": "code",
   "execution_count": 9,
   "metadata": {
    "collapsed": true
   },
   "outputs": [],
   "source": [
    "c=x^2+y^2-4\n",
    "h=x*y-1"
   ]
  },
  {
   "cell_type": "code",
   "execution_count": 10,
   "metadata": {},
   "outputs": [],
   "source": [
    "I=(c,h)*P"
   ]
  },
  {
   "cell_type": "code",
   "execution_count": 11,
   "metadata": {},
   "outputs": [
    {
     "data": {
      "text/plain": [
       "[x + y^3 - 4*y, y^4 - 4*y^2 + 1]"
      ]
     },
     "execution_count": 11,
     "metadata": {},
     "output_type": "execute_result"
    }
   ],
   "source": [
    "I.groebner_basis()"
   ]
  },
  {
   "cell_type": "markdown",
   "metadata": {},
   "source": [
    "Ahora resolveríamos la segunda ecuación y evaluaríamos la primera para encontrar los valores de $x$\n",
    "\n",
    "En `sage` podemos utilizar el comando `solve` directamente"
   ]
  },
  {
   "cell_type": "code",
   "execution_count": 12,
   "metadata": {},
   "outputs": [
    {
     "data": {
      "text/plain": [
       "[[x == -sqrt(sqrt(3) + 2), y == -1/sqrt(sqrt(3) + 2)], [x == sqrt(sqrt(3) + 2), y == 1/sqrt(sqrt(3) + 2)], [x == -sqrt(-sqrt(3) + 2), y == -1/sqrt(-sqrt(3) + 2)], [x == sqrt(-sqrt(3) + 2), y == 1/sqrt(-sqrt(3) + 2)]]"
      ]
     },
     "execution_count": 12,
     "metadata": {},
     "output_type": "execute_result"
    }
   ],
   "source": [
    "x,y=var(\"x,y\")\n",
    "c=x^2+y^2-4\n",
    "h=x*y-1\n",
    "solve([c==0,h==0],[x,y])"
   ]
  },
  {
   "cell_type": "markdown",
   "metadata": {},
   "source": [
    "<font color=\"red\">**Ejercicio**</font>\n",
    "\n",
    "Encuentra las seis soluciones, en $\\mathbb{C}$, del sistema de ecuaciones\n",
    "$$\n",
    " \\left\\{\\begin{array}{l}\n",
    " 2X^3+2X^2Y^2+3Y^3=0\\\\\n",
    " 3X^5+2X^3Y^3+2Y^5=0\n",
    " \\end{array}\\right.\n",
    "$$"
   ]
  },
  {
   "cell_type": "markdown",
   "metadata": {},
   "source": [
    "<font color=\"red\">**Ejercicio**</font>\n",
    "\n",
    "Resuelve sobre $\\mathbb{C}$ el sistema de ecuaciones\n",
    "$$\\left\\{\\begin{array}{l}\n",
    " X^2-YZ=3\\\\\n",
    " Y^2-XZ=4\\\\\n",
    " Z^2-XY=5\n",
    " \\end{array}\\right.$$\n"
   ]
  },
  {
   "cell_type": "markdown",
   "metadata": {},
   "source": [
    "<font color=\"red\">**Ejercicio**</font>\n",
    "\n",
    "Estudia los siguientes enunciados:\n",
    "\n",
    "1. Determina una base de Groebner del ideal $\\mathfrak{a}=(X^2+XY+Y^2-1,X^2+4Y^2-4)\\subseteq{\\mathbb{R}[X,Y]}$ para el orden lexicográfico con $X>Y$.\n",
    "\n",
    "1.  Halla en $\\mathbb{R}^2$ los cuatro puntos de intersección de la elipse $X^2+XY+Y^2=1$ con la elipse $X^2+4Y^2=4$.\n",
    "\n"
   ]
  },
  {
   "cell_type": "markdown",
   "metadata": {},
   "source": [
    "## El problema de la implicitación"
   ]
  },
  {
   "cell_type": "markdown",
   "metadata": {},
   "source": [
    "Supongamos que tenemos una variedad (algebraica) de $\\mathbb K^n$ definida paramétrica por \n",
    "$$\n",
    "\\begin{array}{l}\n",
    "x_1=f_1(t_1,\\ldots,t_m)\\\\\n",
    "\\dots\\\\\n",
    "x_n=f_n(t_1,\\ldots,t_n)\n",
    "\\end{array}\n",
    "$$\n",
    "con $f_i$ polinomios\n",
    "\n",
    "Queremos calcular las ecuaciones implícitas de esta variedad (pueden ser útiles por ejemplo para determinar si un punto está en dicha variedad)\n",
    "\n",
    "Para ello consideramos el ideal $I=(x_1-f_1(t_1,\\ldots,t_m),\\ldots, x_n-f_n(t_1,\\ldots, t_m))$ de $\\mathbb K[t_1,\\ldots, t_m,x_1,\\ldots, x_n]$ \n",
    "\n",
    "Como ecuaciones de la variedad se puede tomar cualquier sistema de generadores de $I\\cap \\mathbb K[x_1,\\ldots,x_n]$\n",
    "\n",
    "Para ello usamos eliminación\n",
    "\n"
   ]
  },
  {
   "cell_type": "markdown",
   "metadata": {},
   "source": [
    "**Ejemplo**\n",
    "\n",
    "Vamos a calcular las ecuaciones de la curva (cúspide) parametrizada como $(t^2,t^3)$\n",
    "\n",
    "Para ello definimos el siguiente ideal en $\\mathbb K[t,x,y]$"
   ]
  },
  {
   "cell_type": "code",
   "execution_count": 13,
   "metadata": {},
   "outputs": [
    {
     "name": "stdout",
     "output_type": "stream",
     "text": [
      "Defining t, x, y\n"
     ]
    }
   ],
   "source": [
    "P=PolynomialRing(QQ,[\"t\",\"x\",\"y\"],order=\"lex\")\n",
    "P.inject_variables()"
   ]
  },
  {
   "cell_type": "code",
   "execution_count": 14,
   "metadata": {},
   "outputs": [],
   "source": [
    "I=(x-t^2,y-t^3)*P"
   ]
  },
  {
   "cell_type": "markdown",
   "metadata": {},
   "source": [
    "Y calculamos una base de Gröbner $G$ respecto del orden lexicográfico con $t>x>y$\n",
    "\n",
    "Sabemos que una base de Gröbner para $I\\cap \\mathbb K[x,y]$ es $G\\cap \\mathbb K[x,y]$"
   ]
  },
  {
   "cell_type": "code",
   "execution_count": 15,
   "metadata": {},
   "outputs": [
    {
     "data": {
      "text/plain": [
       "[t^2 - x, t*x - y, t*y - x^2, x^3 - y^2]"
      ]
     },
     "execution_count": 15,
     "metadata": {},
     "output_type": "execute_result"
    }
   ],
   "source": [
    "I.groebner_basis()"
   ]
  },
  {
   "cell_type": "markdown",
   "metadata": {},
   "source": [
    "Así nuestra curva tiene como ecuación implícita $x^3-y^2=0$"
   ]
  },
  {
   "cell_type": "markdown",
   "metadata": {},
   "source": [
    "Podemos usar directamente `elimination_ideal` para eliminar las variables que queramos"
   ]
  },
  {
   "cell_type": "code",
   "execution_count": 16,
   "metadata": {},
   "outputs": [
    {
     "data": {
      "text/plain": [
       "Ideal (x^3 - y^2) of Multivariate Polynomial Ring in t, x, y over Rational Field"
      ]
     },
     "execution_count": 16,
     "metadata": {},
     "output_type": "execute_result"
    }
   ],
   "source": [
    "I.elimination_ideal([t])"
   ]
  },
  {
   "cell_type": "markdown",
   "metadata": {},
   "source": [
    "<font color=\"red\">**Ejercicio**</font>\n",
    "\n",
    "Calcula las ecuaciones implícitas de \n",
    "$$\n",
    "\\begin{array}{l}\n",
    "x=t+u\\\\\n",
    "y=t^2+2tu\\\\\n",
    "z=t^3+3t^2u\n",
    "\\end{array}\n",
    "$$"
   ]
  },
  {
   "cell_type": "markdown",
   "metadata": {},
   "source": [
    "### Núcleos de morfismos"
   ]
  },
  {
   "cell_type": "markdown",
   "metadata": {},
   "source": [
    "El método anterior también nos sirve para calcular el núcleo de un morfismo de anillos de polinomios\n",
    "\n",
    "Para dar un morfirmo $\\psi: \\mathbb K[x_1,\\ldots, x_n] \\to \\mathbb K[y_1,\\ldots,y_m]$ basta con dar las imágenes de $x_i$ para $i\\in\\{1,\\ldots, n\\}$\n",
    "\n",
    "Supongamos que $\\psi(x_i)=f_i$ para todo $i$\n",
    "\n",
    "Entonces $\\ker\\psi$ es $( x_1-f_1,\\ldots, x_n-f_n)\\cap \\mathbb K[x_1,\\ldots,x_n]$, y esto se puede calcular por eleminación de variables\n"
   ]
  },
  {
   "cell_type": "markdown",
   "metadata": {},
   "source": [
    "**Ejemplo**\n",
    "\n",
    "Sea el morfismo $\\psi : \\mathbb K[x,y] \\to \\mathbb K[t]$, $x\\mapsto t^2$, $y\\mapsto t^3$"
   ]
  },
  {
   "cell_type": "code",
   "execution_count": 17,
   "metadata": {},
   "outputs": [
    {
     "name": "stdout",
     "output_type": "stream",
     "text": [
      "Defining x, y, t\n"
     ]
    }
   ],
   "source": [
    "P.<x,y,t>=QQ[]\n",
    "P.inject_variables()"
   ]
  },
  {
   "cell_type": "code",
   "execution_count": 18,
   "metadata": {},
   "outputs": [],
   "source": [
    "I=(x-t^2,y-t^3)*P"
   ]
  },
  {
   "cell_type": "code",
   "execution_count": 19,
   "metadata": {
    "scrolled": true
   },
   "outputs": [
    {
     "data": {
      "text/plain": [
       "Ideal (x^3 - y^2) of Multivariate Polynomial Ring in x, y, t over Rational Field"
      ]
     },
     "execution_count": 19,
     "metadata": {},
     "output_type": "execute_result"
    }
   ],
   "source": [
    "I.elimination_ideal([t])"
   ]
  },
  {
   "cell_type": "markdown",
   "metadata": {},
   "source": [
    "## Intersección de ideales\n",
    "\n",
    "Sean $I$ y $J$ ideales de $\\mathbb K[x_1,\\ldots, x_n]$ \n",
    "\n",
    "La intersección de $I$ y $J$ se puede calcular tomando una nueva variable e intersecando el ideal $K=tI+(1-t)J$ de $\\mathbb K[x_1,\\ldots, x_n,t]$ con $\\mathbb K[x_1,\\ldots, x_n]$"
   ]
  },
  {
   "cell_type": "code",
   "execution_count": 20,
   "metadata": {},
   "outputs": [
    {
     "name": "stdout",
     "output_type": "stream",
     "text": [
      "Defining x, y, t\n"
     ]
    }
   ],
   "source": [
    "P.<x,y,t>=QQ[]\n",
    "P.inject_variables()"
   ]
  },
  {
   "cell_type": "code",
   "execution_count": 21,
   "metadata": {
    "collapsed": true
   },
   "outputs": [],
   "source": [
    "I=(x*y^2)*P\n",
    "J=(x^2*y)*P\n",
    "K=t*I+(1-t)*J"
   ]
  },
  {
   "cell_type": "code",
   "execution_count": 22,
   "metadata": {},
   "outputs": [
    {
     "data": {
      "text/plain": [
       "Ideal (x^2*y^2) of Multivariate Polynomial Ring in x, y, t over Rational Field"
      ]
     },
     "execution_count": 22,
     "metadata": {},
     "output_type": "execute_result"
    }
   ],
   "source": [
    "K.elimination_ideal([t])"
   ]
  },
  {
   "cell_type": "code",
   "execution_count": 23,
   "metadata": {},
   "outputs": [
    {
     "data": {
      "text/plain": [
       "Ideal (x^2*y^2) of Multivariate Polynomial Ring in x, y, t over Rational Field"
      ]
     },
     "execution_count": 23,
     "metadata": {},
     "output_type": "execute_result"
    }
   ],
   "source": [
    "I.intersection(J)"
   ]
  },
  {
   "cell_type": "markdown",
   "metadata": {},
   "source": [
    "<font color=\"red\">**Ejercicio**</font>\n",
    "\n",
    "Usa bases de Groebner para demostrar en $K[X,Y,Z]$ que $(X,Z)\\cap(Y^2,X-YZ)=(XY,X-YZ)$"
   ]
  },
  {
   "cell_type": "markdown",
   "metadata": {},
   "source": [
    "<font color=\"red\">**Ejercicio**</font>\n",
    "\n",
    "Usa bases de Groebner para determinar la intersección de los ideales de $K[X,Y]$\n",
    "$$\n",
    "\\begin{array}{ll}\n",
    "\\mathfrak{a}=(X^3Y-XY^2+1,X^2Y^2-Y^3-1)\\mbox{ y}\\\\\n",
    "\\mathfrak{b}=(X^2-Y^2,X^3+Y^3)\n",
    "\\end{array}\n",
    "$$"
   ]
  },
  {
   "cell_type": "markdown",
   "metadata": {},
   "source": [
    "### Mínimo común múltiplo"
   ]
  },
  {
   "cell_type": "markdown",
   "metadata": {},
   "source": [
    "La intersección de dos ideales principales en $\\mathbb K[x_1,\\ldots, x_n]$ es un ideal principal generado por el mínimo común múltiplo de los generadores de estos ideales\n",
    "\n",
    "Podemos por tanto utilizar el truco anterior para el cálculo de la intersección para calcular el mínimo común múltiplo de dos polinomios (y por tanto su máximo común divisor)"
   ]
  },
  {
   "cell_type": "code",
   "execution_count": 24,
   "metadata": {
    "collapsed": true
   },
   "outputs": [],
   "source": [
    "P.<x,y>=QQ[]"
   ]
  },
  {
   "cell_type": "code",
   "execution_count": 25,
   "metadata": {},
   "outputs": [
    {
     "data": {
      "text/plain": [
       "x^2*y^2"
      ]
     },
     "execution_count": 25,
     "metadata": {},
     "output_type": "execute_result"
    }
   ],
   "source": [
    "(x*y^2).lcm(x^2*y)"
   ]
  },
  {
   "cell_type": "markdown",
   "metadata": {},
   "source": [
    "<font color=\"red\">**Ejercicio**</font>\n",
    "\n",
    "Determina el máximo común divisor de los siguientes polinomios sobre $\\mathbb{R}$\n",
    "$$\n",
    "F=X^2-Y^2, \\qquad\n",
    "G=X^3-Y^3\n",
    "$$\n"
   ]
  },
  {
   "cell_type": "markdown",
   "metadata": {},
   "source": [
    "<font color=\"red\">**Ejercicio**</font>\n",
    "\n",
    "Determina el máximo común divisor de los siguientes polinomios sobre $\\mathbb{R}$\n",
    "$$\n",
    "F=X^2-4Y^2,\\qquad\n",
    "G=X^2-4XY+4Y^2\n",
    "$$"
   ]
  },
  {
   "cell_type": "markdown",
   "metadata": {},
   "source": [
    "## Cocientes"
   ]
  },
  {
   "cell_type": "markdown",
   "metadata": {},
   "source": [
    "Para calcular el cociente de dos ideales $I$ y $J$ de $\\mathbb K[x_1,\\ldots, x_n]$, hacemos uso de las siguientes propiedades\n",
    "\n",
    "- Supongamos que $J$ es principal (caso base), por ejemplo, $J=(g)$, y que $\\{h_1,\\ldots,h_t\\}$ es un sistema de generadores de $I\\cap (g)$. Entonces $\\{h_1/g,\\ldots, h_t/g\\}$ es una base de $I:(g)$\n",
    "\n",
    "- Si $J=(g_1,\\ldots,g_s)$, entonces $I:J=(I:(g_1,\\ldots,g_{s-1}))\\cap (I:g_s)$"
   ]
  },
  {
   "cell_type": "code",
   "execution_count": 26,
   "metadata": {
    "collapsed": true
   },
   "outputs": [],
   "source": [
    "P.<x,y>=QQ[]"
   ]
  },
  {
   "cell_type": "code",
   "execution_count": 27,
   "metadata": {
    "collapsed": true
   },
   "outputs": [],
   "source": [
    "I=(x^2+y^2,x*y^5)*P\n",
    "g=x-y"
   ]
  },
  {
   "cell_type": "code",
   "execution_count": 28,
   "metadata": {},
   "outputs": [
    {
     "data": {
      "text/plain": [
       "[x^2 + y^2, x*y^4 - y^5, y^6]"
      ]
     },
     "execution_count": 28,
     "metadata": {},
     "output_type": "execute_result"
    }
   ],
   "source": [
    "I.quotient(g*P).gens()"
   ]
  },
  {
   "cell_type": "code",
   "execution_count": 29,
   "metadata": {},
   "outputs": [
    {
     "data": {
      "text/plain": [
       "[x^2 + y^2, x*y^4 - y^5, y^6]"
      ]
     },
     "execution_count": 29,
     "metadata": {},
     "output_type": "execute_result"
    }
   ],
   "source": [
    "[h/g for h in I.intersection(g*P).gens()]"
   ]
  },
  {
   "cell_type": "markdown",
   "metadata": {},
   "source": [
    "<font color=\"red\">**Ejercicio**</font>\n",
    "\n",
    "Sean $\\mathfrak{a}=(X^2Y+Z^3,X+Y^3-Z,2Y^4Z-YZ^2-Z^3)$, $\\mathfrak{b}=(X^2Y^5,X^3Z^4,Y^3Z^7)$ ideales de $\\mathbb{Q}[X,Y,Z]$\n",
    "\n",
    "Demuestra que $\\mathfrak{a}:\\mathfrak{b}=(Z^2,Y+Z,X-Z)$"
   ]
  },
  {
   "cell_type": "markdown",
   "metadata": {},
   "source": [
    "## Pertenencia al radical"
   ]
  },
  {
   "cell_type": "markdown",
   "metadata": {},
   "source": [
    "Según la Proposición 8 de [CLO],  $f$ está en el radical de $I$ si $1\\in I+(1-zf)$ con $z$ una nueva variable."
   ]
  },
  {
   "cell_type": "code",
   "execution_count": 1,
   "metadata": {},
   "outputs": [
    {
     "name": "stdout",
     "output_type": "stream",
     "text": [
      "Defining x, y, z\n"
     ]
    }
   ],
   "source": [
    "P=PolynomialRing(QQ,[\"x\",\"y\",\"z\"],order=\"lex\")\n",
    "P.inject_variables()\n",
    "I=[x*y^2+2*y^2,x^4-2*x^2+1]*P"
   ]
  },
  {
   "cell_type": "code",
   "execution_count": 2,
   "metadata": {},
   "outputs": [
    {
     "data": {
      "text/plain": [
       "False"
      ]
     },
     "execution_count": 2,
     "metadata": {},
     "output_type": "execute_result"
    }
   ],
   "source": [
    "y-x^2+1 in I"
   ]
  },
  {
   "cell_type": "code",
   "execution_count": 3,
   "metadata": {},
   "outputs": [
    {
     "data": {
      "text/plain": [
       "True"
      ]
     },
     "execution_count": 3,
     "metadata": {},
     "output_type": "execute_result"
    }
   ],
   "source": [
    "y-x^2+1 in I.radical()"
   ]
  },
  {
   "cell_type": "code",
   "execution_count": 4,
   "metadata": {},
   "outputs": [],
   "source": [
    "II=[x*y^2+2*y^2,x^4-2*x^2+1,1-z*(y-x^2+1)]*P"
   ]
  },
  {
   "cell_type": "code",
   "execution_count": 5,
   "metadata": {},
   "outputs": [
    {
     "data": {
      "text/plain": [
       "[1]"
      ]
     },
     "execution_count": 5,
     "metadata": {},
     "output_type": "execute_result"
    }
   ],
   "source": [
    "II.groebner_basis()"
   ]
  }
 ],
 "metadata": {
  "kernelspec": {
   "display_name": "SageMath 7.5.1",
   "language": "",
   "name": "sagemath"
  },
  "language_info": {
   "codemirror_mode": {
    "name": "ipython",
    "version": 2
   },
   "file_extension": ".py",
   "mimetype": "text/x-python",
   "name": "python",
   "nbconvert_exporter": "python",
   "pygments_lexer": "ipython2",
   "version": "2.7.13"
  }
 },
 "nbformat": 4,
 "nbformat_minor": 1
}
